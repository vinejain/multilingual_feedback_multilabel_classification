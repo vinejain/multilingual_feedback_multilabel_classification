{
  "nbformat": 4,
  "nbformat_minor": 0,
  "metadata": {
    "colab": {
      "name": "VJ - XLNet_toxic_comment_classification_challenge_share.ipynb",
      "provenance": [],
      "collapsed_sections": [
        "sHt9MdUoOaLl",
        "12PYfqX3QrE-"
      ]
    },
    "kernelspec": {
      "name": "python3",
      "display_name": "Python 3"
    },
    "accelerator": "GPU",
    "widgets": {
      "application/vnd.jupyter.widget-state+json": {
        "c65c8cf24e0648428cf67ba07a402ef9": {
          "model_module": "@jupyter-widgets/controls",
          "model_name": "HBoxModel",
          "state": {
            "_view_name": "HBoxView",
            "_dom_classes": [],
            "_model_name": "HBoxModel",
            "_view_module": "@jupyter-widgets/controls",
            "_model_module_version": "1.5.0",
            "_view_count": null,
            "_view_module_version": "1.5.0",
            "box_style": "",
            "layout": "IPY_MODEL_5f173bf1ae734d03812be012a04df202",
            "_model_module": "@jupyter-widgets/controls",
            "children": [
              "IPY_MODEL_3b3d2949115c44f7b3394563f403804a",
              "IPY_MODEL_f20a2ce4f1b74795a5ec648527f32aa6"
            ]
          }
        },
        "5f173bf1ae734d03812be012a04df202": {
          "model_module": "@jupyter-widgets/base",
          "model_name": "LayoutModel",
          "state": {
            "_view_name": "LayoutView",
            "grid_template_rows": null,
            "right": null,
            "justify_content": null,
            "_view_module": "@jupyter-widgets/base",
            "overflow": null,
            "_model_module_version": "1.2.0",
            "_view_count": null,
            "flex_flow": null,
            "width": null,
            "min_width": null,
            "border": null,
            "align_items": null,
            "bottom": null,
            "_model_module": "@jupyter-widgets/base",
            "top": null,
            "grid_column": null,
            "overflow_y": null,
            "overflow_x": null,
            "grid_auto_flow": null,
            "grid_area": null,
            "grid_template_columns": null,
            "flex": null,
            "_model_name": "LayoutModel",
            "justify_items": null,
            "grid_row": null,
            "max_height": null,
            "align_content": null,
            "visibility": null,
            "align_self": null,
            "height": null,
            "min_height": null,
            "padding": null,
            "grid_auto_rows": null,
            "grid_gap": null,
            "max_width": null,
            "order": null,
            "_view_module_version": "1.2.0",
            "grid_template_areas": null,
            "object_position": null,
            "object_fit": null,
            "grid_auto_columns": null,
            "margin": null,
            "display": null,
            "left": null
          }
        },
        "3b3d2949115c44f7b3394563f403804a": {
          "model_module": "@jupyter-widgets/controls",
          "model_name": "FloatProgressModel",
          "state": {
            "_view_name": "ProgressView",
            "style": "IPY_MODEL_d1d79b039e96487b8248eace5bad9ee6",
            "_dom_classes": [],
            "description": "Downloading: 100%",
            "_model_name": "FloatProgressModel",
            "bar_style": "success",
            "max": 798011,
            "_view_module": "@jupyter-widgets/controls",
            "_model_module_version": "1.5.0",
            "value": 798011,
            "_view_count": null,
            "_view_module_version": "1.5.0",
            "orientation": "horizontal",
            "min": 0,
            "description_tooltip": null,
            "_model_module": "@jupyter-widgets/controls",
            "layout": "IPY_MODEL_9d30d96435784558897b7207f61e6899"
          }
        },
        "f20a2ce4f1b74795a5ec648527f32aa6": {
          "model_module": "@jupyter-widgets/controls",
          "model_name": "HTMLModel",
          "state": {
            "_view_name": "HTMLView",
            "style": "IPY_MODEL_b17ce5b4f3b84c3387b654196f5690e4",
            "_dom_classes": [],
            "description": "",
            "_model_name": "HTMLModel",
            "placeholder": "​",
            "_view_module": "@jupyter-widgets/controls",
            "_model_module_version": "1.5.0",
            "value": " 798k/798k [00:15&lt;00:00, 52.1kB/s]",
            "_view_count": null,
            "_view_module_version": "1.5.0",
            "description_tooltip": null,
            "_model_module": "@jupyter-widgets/controls",
            "layout": "IPY_MODEL_21fa820e75df4b42ba8ea9ec4fc2b56d"
          }
        },
        "d1d79b039e96487b8248eace5bad9ee6": {
          "model_module": "@jupyter-widgets/controls",
          "model_name": "ProgressStyleModel",
          "state": {
            "_view_name": "StyleView",
            "_model_name": "ProgressStyleModel",
            "description_width": "initial",
            "_view_module": "@jupyter-widgets/base",
            "_model_module_version": "1.5.0",
            "_view_count": null,
            "_view_module_version": "1.2.0",
            "bar_color": null,
            "_model_module": "@jupyter-widgets/controls"
          }
        },
        "9d30d96435784558897b7207f61e6899": {
          "model_module": "@jupyter-widgets/base",
          "model_name": "LayoutModel",
          "state": {
            "_view_name": "LayoutView",
            "grid_template_rows": null,
            "right": null,
            "justify_content": null,
            "_view_module": "@jupyter-widgets/base",
            "overflow": null,
            "_model_module_version": "1.2.0",
            "_view_count": null,
            "flex_flow": null,
            "width": null,
            "min_width": null,
            "border": null,
            "align_items": null,
            "bottom": null,
            "_model_module": "@jupyter-widgets/base",
            "top": null,
            "grid_column": null,
            "overflow_y": null,
            "overflow_x": null,
            "grid_auto_flow": null,
            "grid_area": null,
            "grid_template_columns": null,
            "flex": null,
            "_model_name": "LayoutModel",
            "justify_items": null,
            "grid_row": null,
            "max_height": null,
            "align_content": null,
            "visibility": null,
            "align_self": null,
            "height": null,
            "min_height": null,
            "padding": null,
            "grid_auto_rows": null,
            "grid_gap": null,
            "max_width": null,
            "order": null,
            "_view_module_version": "1.2.0",
            "grid_template_areas": null,
            "object_position": null,
            "object_fit": null,
            "grid_auto_columns": null,
            "margin": null,
            "display": null,
            "left": null
          }
        },
        "b17ce5b4f3b84c3387b654196f5690e4": {
          "model_module": "@jupyter-widgets/controls",
          "model_name": "DescriptionStyleModel",
          "state": {
            "_view_name": "StyleView",
            "_model_name": "DescriptionStyleModel",
            "description_width": "",
            "_view_module": "@jupyter-widgets/base",
            "_model_module_version": "1.5.0",
            "_view_count": null,
            "_view_module_version": "1.2.0",
            "_model_module": "@jupyter-widgets/controls"
          }
        },
        "21fa820e75df4b42ba8ea9ec4fc2b56d": {
          "model_module": "@jupyter-widgets/base",
          "model_name": "LayoutModel",
          "state": {
            "_view_name": "LayoutView",
            "grid_template_rows": null,
            "right": null,
            "justify_content": null,
            "_view_module": "@jupyter-widgets/base",
            "overflow": null,
            "_model_module_version": "1.2.0",
            "_view_count": null,
            "flex_flow": null,
            "width": null,
            "min_width": null,
            "border": null,
            "align_items": null,
            "bottom": null,
            "_model_module": "@jupyter-widgets/base",
            "top": null,
            "grid_column": null,
            "overflow_y": null,
            "overflow_x": null,
            "grid_auto_flow": null,
            "grid_area": null,
            "grid_template_columns": null,
            "flex": null,
            "_model_name": "LayoutModel",
            "justify_items": null,
            "grid_row": null,
            "max_height": null,
            "align_content": null,
            "visibility": null,
            "align_self": null,
            "height": null,
            "min_height": null,
            "padding": null,
            "grid_auto_rows": null,
            "grid_gap": null,
            "max_width": null,
            "order": null,
            "_view_module_version": "1.2.0",
            "grid_template_areas": null,
            "object_position": null,
            "object_fit": null,
            "grid_auto_columns": null,
            "margin": null,
            "display": null,
            "left": null
          }
        },
        "762e096d83ad4d2da1a1eabdf1a480a9": {
          "model_module": "@jupyter-widgets/controls",
          "model_name": "HBoxModel",
          "state": {
            "_view_name": "HBoxView",
            "_dom_classes": [],
            "_model_name": "HBoxModel",
            "_view_module": "@jupyter-widgets/controls",
            "_model_module_version": "1.5.0",
            "_view_count": null,
            "_view_module_version": "1.5.0",
            "box_style": "",
            "layout": "IPY_MODEL_f7db7146feea443aa1a38752b2d70f42",
            "_model_module": "@jupyter-widgets/controls",
            "children": [
              "IPY_MODEL_a44d453a84f74f3fbcbd0314190042fa",
              "IPY_MODEL_8ad076b945744438824f89a0a26a7dac"
            ]
          }
        },
        "f7db7146feea443aa1a38752b2d70f42": {
          "model_module": "@jupyter-widgets/base",
          "model_name": "LayoutModel",
          "state": {
            "_view_name": "LayoutView",
            "grid_template_rows": null,
            "right": null,
            "justify_content": null,
            "_view_module": "@jupyter-widgets/base",
            "overflow": null,
            "_model_module_version": "1.2.0",
            "_view_count": null,
            "flex_flow": null,
            "width": null,
            "min_width": null,
            "border": null,
            "align_items": null,
            "bottom": null,
            "_model_module": "@jupyter-widgets/base",
            "top": null,
            "grid_column": null,
            "overflow_y": null,
            "overflow_x": null,
            "grid_auto_flow": null,
            "grid_area": null,
            "grid_template_columns": null,
            "flex": null,
            "_model_name": "LayoutModel",
            "justify_items": null,
            "grid_row": null,
            "max_height": null,
            "align_content": null,
            "visibility": null,
            "align_self": null,
            "height": null,
            "min_height": null,
            "padding": null,
            "grid_auto_rows": null,
            "grid_gap": null,
            "max_width": null,
            "order": null,
            "_view_module_version": "1.2.0",
            "grid_template_areas": null,
            "object_position": null,
            "object_fit": null,
            "grid_auto_columns": null,
            "margin": null,
            "display": null,
            "left": null
          }
        },
        "a44d453a84f74f3fbcbd0314190042fa": {
          "model_module": "@jupyter-widgets/controls",
          "model_name": "FloatProgressModel",
          "state": {
            "_view_name": "ProgressView",
            "style": "IPY_MODEL_f81ac122d5b24bbd8f0dc17cf510af62",
            "_dom_classes": [],
            "description": "Downloading: 100%",
            "_model_name": "FloatProgressModel",
            "bar_style": "success",
            "max": 760,
            "_view_module": "@jupyter-widgets/controls",
            "_model_module_version": "1.5.0",
            "value": 760,
            "_view_count": null,
            "_view_module_version": "1.5.0",
            "orientation": "horizontal",
            "min": 0,
            "description_tooltip": null,
            "_model_module": "@jupyter-widgets/controls",
            "layout": "IPY_MODEL_cb24bbe04e1948d58a6ffd029ac7a1d6"
          }
        },
        "8ad076b945744438824f89a0a26a7dac": {
          "model_module": "@jupyter-widgets/controls",
          "model_name": "HTMLModel",
          "state": {
            "_view_name": "HTMLView",
            "style": "IPY_MODEL_dfa54375d80949e18c53241f8d7a95bc",
            "_dom_classes": [],
            "description": "",
            "_model_name": "HTMLModel",
            "placeholder": "​",
            "_view_module": "@jupyter-widgets/controls",
            "_model_module_version": "1.5.0",
            "value": " 760/760 [00:10&lt;00:00, 72.0B/s]",
            "_view_count": null,
            "_view_module_version": "1.5.0",
            "description_tooltip": null,
            "_model_module": "@jupyter-widgets/controls",
            "layout": "IPY_MODEL_a7a8dcba4f4e47b6b61d633dcb9fd892"
          }
        },
        "f81ac122d5b24bbd8f0dc17cf510af62": {
          "model_module": "@jupyter-widgets/controls",
          "model_name": "ProgressStyleModel",
          "state": {
            "_view_name": "StyleView",
            "_model_name": "ProgressStyleModel",
            "description_width": "initial",
            "_view_module": "@jupyter-widgets/base",
            "_model_module_version": "1.5.0",
            "_view_count": null,
            "_view_module_version": "1.2.0",
            "bar_color": null,
            "_model_module": "@jupyter-widgets/controls"
          }
        },
        "cb24bbe04e1948d58a6ffd029ac7a1d6": {
          "model_module": "@jupyter-widgets/base",
          "model_name": "LayoutModel",
          "state": {
            "_view_name": "LayoutView",
            "grid_template_rows": null,
            "right": null,
            "justify_content": null,
            "_view_module": "@jupyter-widgets/base",
            "overflow": null,
            "_model_module_version": "1.2.0",
            "_view_count": null,
            "flex_flow": null,
            "width": null,
            "min_width": null,
            "border": null,
            "align_items": null,
            "bottom": null,
            "_model_module": "@jupyter-widgets/base",
            "top": null,
            "grid_column": null,
            "overflow_y": null,
            "overflow_x": null,
            "grid_auto_flow": null,
            "grid_area": null,
            "grid_template_columns": null,
            "flex": null,
            "_model_name": "LayoutModel",
            "justify_items": null,
            "grid_row": null,
            "max_height": null,
            "align_content": null,
            "visibility": null,
            "align_self": null,
            "height": null,
            "min_height": null,
            "padding": null,
            "grid_auto_rows": null,
            "grid_gap": null,
            "max_width": null,
            "order": null,
            "_view_module_version": "1.2.0",
            "grid_template_areas": null,
            "object_position": null,
            "object_fit": null,
            "grid_auto_columns": null,
            "margin": null,
            "display": null,
            "left": null
          }
        },
        "dfa54375d80949e18c53241f8d7a95bc": {
          "model_module": "@jupyter-widgets/controls",
          "model_name": "DescriptionStyleModel",
          "state": {
            "_view_name": "StyleView",
            "_model_name": "DescriptionStyleModel",
            "description_width": "",
            "_view_module": "@jupyter-widgets/base",
            "_model_module_version": "1.5.0",
            "_view_count": null,
            "_view_module_version": "1.2.0",
            "_model_module": "@jupyter-widgets/controls"
          }
        },
        "a7a8dcba4f4e47b6b61d633dcb9fd892": {
          "model_module": "@jupyter-widgets/base",
          "model_name": "LayoutModel",
          "state": {
            "_view_name": "LayoutView",
            "grid_template_rows": null,
            "right": null,
            "justify_content": null,
            "_view_module": "@jupyter-widgets/base",
            "overflow": null,
            "_model_module_version": "1.2.0",
            "_view_count": null,
            "flex_flow": null,
            "width": null,
            "min_width": null,
            "border": null,
            "align_items": null,
            "bottom": null,
            "_model_module": "@jupyter-widgets/base",
            "top": null,
            "grid_column": null,
            "overflow_y": null,
            "overflow_x": null,
            "grid_auto_flow": null,
            "grid_area": null,
            "grid_template_columns": null,
            "flex": null,
            "_model_name": "LayoutModel",
            "justify_items": null,
            "grid_row": null,
            "max_height": null,
            "align_content": null,
            "visibility": null,
            "align_self": null,
            "height": null,
            "min_height": null,
            "padding": null,
            "grid_auto_rows": null,
            "grid_gap": null,
            "max_width": null,
            "order": null,
            "_view_module_version": "1.2.0",
            "grid_template_areas": null,
            "object_position": null,
            "object_fit": null,
            "grid_auto_columns": null,
            "margin": null,
            "display": null,
            "left": null
          }
        },
        "5924d3539110486596cc56ab06983076": {
          "model_module": "@jupyter-widgets/controls",
          "model_name": "HBoxModel",
          "state": {
            "_view_name": "HBoxView",
            "_dom_classes": [],
            "_model_name": "HBoxModel",
            "_view_module": "@jupyter-widgets/controls",
            "_model_module_version": "1.5.0",
            "_view_count": null,
            "_view_module_version": "1.5.0",
            "box_style": "",
            "layout": "IPY_MODEL_84168ce181c24477af61042b482c4297",
            "_model_module": "@jupyter-widgets/controls",
            "children": [
              "IPY_MODEL_edc25cd550f84e8488721f4960df1b0c",
              "IPY_MODEL_87266ed5b5f747299c8058fdcbb097f0"
            ]
          }
        },
        "84168ce181c24477af61042b482c4297": {
          "model_module": "@jupyter-widgets/base",
          "model_name": "LayoutModel",
          "state": {
            "_view_name": "LayoutView",
            "grid_template_rows": null,
            "right": null,
            "justify_content": null,
            "_view_module": "@jupyter-widgets/base",
            "overflow": null,
            "_model_module_version": "1.2.0",
            "_view_count": null,
            "flex_flow": null,
            "width": null,
            "min_width": null,
            "border": null,
            "align_items": null,
            "bottom": null,
            "_model_module": "@jupyter-widgets/base",
            "top": null,
            "grid_column": null,
            "overflow_y": null,
            "overflow_x": null,
            "grid_auto_flow": null,
            "grid_area": null,
            "grid_template_columns": null,
            "flex": null,
            "_model_name": "LayoutModel",
            "justify_items": null,
            "grid_row": null,
            "max_height": null,
            "align_content": null,
            "visibility": null,
            "align_self": null,
            "height": null,
            "min_height": null,
            "padding": null,
            "grid_auto_rows": null,
            "grid_gap": null,
            "max_width": null,
            "order": null,
            "_view_module_version": "1.2.0",
            "grid_template_areas": null,
            "object_position": null,
            "object_fit": null,
            "grid_auto_columns": null,
            "margin": null,
            "display": null,
            "left": null
          }
        },
        "edc25cd550f84e8488721f4960df1b0c": {
          "model_module": "@jupyter-widgets/controls",
          "model_name": "FloatProgressModel",
          "state": {
            "_view_name": "ProgressView",
            "style": "IPY_MODEL_613671e974824cfb97197e420dd05e72",
            "_dom_classes": [],
            "description": "Downloading: 100%",
            "_model_name": "FloatProgressModel",
            "bar_style": "success",
            "max": 467042463,
            "_view_module": "@jupyter-widgets/controls",
            "_model_module_version": "1.5.0",
            "value": 467042463,
            "_view_count": null,
            "_view_module_version": "1.5.0",
            "orientation": "horizontal",
            "min": 0,
            "description_tooltip": null,
            "_model_module": "@jupyter-widgets/controls",
            "layout": "IPY_MODEL_61f759d794d7451bb80cc380540fd35e"
          }
        },
        "87266ed5b5f747299c8058fdcbb097f0": {
          "model_module": "@jupyter-widgets/controls",
          "model_name": "HTMLModel",
          "state": {
            "_view_name": "HTMLView",
            "style": "IPY_MODEL_1a126d61d10b4e3282c5c3616da2716f",
            "_dom_classes": [],
            "description": "",
            "_model_name": "HTMLModel",
            "placeholder": "​",
            "_view_module": "@jupyter-widgets/controls",
            "_model_module_version": "1.5.0",
            "value": " 467M/467M [00:10&lt;00:00, 45.0MB/s]",
            "_view_count": null,
            "_view_module_version": "1.5.0",
            "description_tooltip": null,
            "_model_module": "@jupyter-widgets/controls",
            "layout": "IPY_MODEL_3f8f4bb9ae634340ae7c05b9124cf302"
          }
        },
        "613671e974824cfb97197e420dd05e72": {
          "model_module": "@jupyter-widgets/controls",
          "model_name": "ProgressStyleModel",
          "state": {
            "_view_name": "StyleView",
            "_model_name": "ProgressStyleModel",
            "description_width": "initial",
            "_view_module": "@jupyter-widgets/base",
            "_model_module_version": "1.5.0",
            "_view_count": null,
            "_view_module_version": "1.2.0",
            "bar_color": null,
            "_model_module": "@jupyter-widgets/controls"
          }
        },
        "61f759d794d7451bb80cc380540fd35e": {
          "model_module": "@jupyter-widgets/base",
          "model_name": "LayoutModel",
          "state": {
            "_view_name": "LayoutView",
            "grid_template_rows": null,
            "right": null,
            "justify_content": null,
            "_view_module": "@jupyter-widgets/base",
            "overflow": null,
            "_model_module_version": "1.2.0",
            "_view_count": null,
            "flex_flow": null,
            "width": null,
            "min_width": null,
            "border": null,
            "align_items": null,
            "bottom": null,
            "_model_module": "@jupyter-widgets/base",
            "top": null,
            "grid_column": null,
            "overflow_y": null,
            "overflow_x": null,
            "grid_auto_flow": null,
            "grid_area": null,
            "grid_template_columns": null,
            "flex": null,
            "_model_name": "LayoutModel",
            "justify_items": null,
            "grid_row": null,
            "max_height": null,
            "align_content": null,
            "visibility": null,
            "align_self": null,
            "height": null,
            "min_height": null,
            "padding": null,
            "grid_auto_rows": null,
            "grid_gap": null,
            "max_width": null,
            "order": null,
            "_view_module_version": "1.2.0",
            "grid_template_areas": null,
            "object_position": null,
            "object_fit": null,
            "grid_auto_columns": null,
            "margin": null,
            "display": null,
            "left": null
          }
        },
        "1a126d61d10b4e3282c5c3616da2716f": {
          "model_module": "@jupyter-widgets/controls",
          "model_name": "DescriptionStyleModel",
          "state": {
            "_view_name": "StyleView",
            "_model_name": "DescriptionStyleModel",
            "description_width": "",
            "_view_module": "@jupyter-widgets/base",
            "_model_module_version": "1.5.0",
            "_view_count": null,
            "_view_module_version": "1.2.0",
            "_model_module": "@jupyter-widgets/controls"
          }
        },
        "3f8f4bb9ae634340ae7c05b9124cf302": {
          "model_module": "@jupyter-widgets/base",
          "model_name": "LayoutModel",
          "state": {
            "_view_name": "LayoutView",
            "grid_template_rows": null,
            "right": null,
            "justify_content": null,
            "_view_module": "@jupyter-widgets/base",
            "overflow": null,
            "_model_module_version": "1.2.0",
            "_view_count": null,
            "flex_flow": null,
            "width": null,
            "min_width": null,
            "border": null,
            "align_items": null,
            "bottom": null,
            "_model_module": "@jupyter-widgets/base",
            "top": null,
            "grid_column": null,
            "overflow_y": null,
            "overflow_x": null,
            "grid_auto_flow": null,
            "grid_area": null,
            "grid_template_columns": null,
            "flex": null,
            "_model_name": "LayoutModel",
            "justify_items": null,
            "grid_row": null,
            "max_height": null,
            "align_content": null,
            "visibility": null,
            "align_self": null,
            "height": null,
            "min_height": null,
            "padding": null,
            "grid_auto_rows": null,
            "grid_gap": null,
            "max_width": null,
            "order": null,
            "_view_module_version": "1.2.0",
            "grid_template_areas": null,
            "object_position": null,
            "object_fit": null,
            "grid_auto_columns": null,
            "margin": null,
            "display": null,
            "left": null
          }
        }
      }
    }
  },
  "cells": [
    {
      "cell_type": "code",
      "metadata": {
        "id": "aUzQGX2ILqMK",
        "colab_type": "code",
        "colab": {
          "base_uri": "https://localhost:8080/",
          "height": 588
        },
        "outputId": "878d4132-fc40-43fb-e59c-904b91cc3e0f"
      },
      "source": [
        "!pip install transformers"
      ],
      "execution_count": 2,
      "outputs": [
        {
          "output_type": "stream",
          "text": [
            "Collecting transformers\n",
            "\u001b[?25l  Downloading https://files.pythonhosted.org/packages/27/3c/91ed8f5c4e7ef3227b4119200fc0ed4b4fd965b1f0172021c25701087825/transformers-3.0.2-py3-none-any.whl (769kB)\n",
            "\u001b[K     |████████████████████████████████| 778kB 2.7MB/s \n",
            "\u001b[?25hCollecting sacremoses\n",
            "\u001b[?25l  Downloading https://files.pythonhosted.org/packages/7d/34/09d19aff26edcc8eb2a01bed8e98f13a1537005d31e95233fd48216eed10/sacremoses-0.0.43.tar.gz (883kB)\n",
            "\u001b[K     |████████████████████████████████| 890kB 12.4MB/s \n",
            "\u001b[?25hRequirement already satisfied: dataclasses; python_version < \"3.7\" in /usr/local/lib/python3.6/dist-packages (from transformers) (0.7)\n",
            "Requirement already satisfied: regex!=2019.12.17 in /usr/local/lib/python3.6/dist-packages (from transformers) (2019.12.20)\n",
            "Collecting tokenizers==0.8.1.rc1\n",
            "\u001b[?25l  Downloading https://files.pythonhosted.org/packages/40/d0/30d5f8d221a0ed981a186c8eb986ce1c94e3a6e87f994eae9f4aa5250217/tokenizers-0.8.1rc1-cp36-cp36m-manylinux1_x86_64.whl (3.0MB)\n",
            "\u001b[K     |████████████████████████████████| 3.0MB 12.6MB/s \n",
            "\u001b[?25hRequirement already satisfied: numpy in /usr/local/lib/python3.6/dist-packages (from transformers) (1.18.5)\n",
            "Requirement already satisfied: filelock in /usr/local/lib/python3.6/dist-packages (from transformers) (3.0.12)\n",
            "Requirement already satisfied: requests in /usr/local/lib/python3.6/dist-packages (from transformers) (2.23.0)\n",
            "Requirement already satisfied: tqdm>=4.27 in /usr/local/lib/python3.6/dist-packages (from transformers) (4.41.1)\n",
            "Requirement already satisfied: packaging in /usr/local/lib/python3.6/dist-packages (from transformers) (20.4)\n",
            "Collecting sentencepiece!=0.1.92\n",
            "\u001b[?25l  Downloading https://files.pythonhosted.org/packages/d4/a4/d0a884c4300004a78cca907a6ff9a5e9fe4f090f5d95ab341c53d28cbc58/sentencepiece-0.1.91-cp36-cp36m-manylinux1_x86_64.whl (1.1MB)\n",
            "\u001b[K     |████████████████████████████████| 1.1MB 41.7MB/s \n",
            "\u001b[?25hRequirement already satisfied: six in /usr/local/lib/python3.6/dist-packages (from sacremoses->transformers) (1.15.0)\n",
            "Requirement already satisfied: click in /usr/local/lib/python3.6/dist-packages (from sacremoses->transformers) (7.1.2)\n",
            "Requirement already satisfied: joblib in /usr/local/lib/python3.6/dist-packages (from sacremoses->transformers) (0.16.0)\n",
            "Requirement already satisfied: certifi>=2017.4.17 in /usr/local/lib/python3.6/dist-packages (from requests->transformers) (2020.6.20)\n",
            "Requirement already satisfied: urllib3!=1.25.0,!=1.25.1,<1.26,>=1.21.1 in /usr/local/lib/python3.6/dist-packages (from requests->transformers) (1.24.3)\n",
            "Requirement already satisfied: chardet<4,>=3.0.2 in /usr/local/lib/python3.6/dist-packages (from requests->transformers) (3.0.4)\n",
            "Requirement already satisfied: idna<3,>=2.5 in /usr/local/lib/python3.6/dist-packages (from requests->transformers) (2.10)\n",
            "Requirement already satisfied: pyparsing>=2.0.2 in /usr/local/lib/python3.6/dist-packages (from packaging->transformers) (2.4.7)\n",
            "Building wheels for collected packages: sacremoses\n",
            "  Building wheel for sacremoses (setup.py) ... \u001b[?25l\u001b[?25hdone\n",
            "  Created wheel for sacremoses: filename=sacremoses-0.0.43-cp36-none-any.whl size=893260 sha256=b6341fc04e96fb58f95fa359bea104ddc23ceef796d93dd495ed031e100f0aa2\n",
            "  Stored in directory: /root/.cache/pip/wheels/29/3c/fd/7ce5c3f0666dab31a50123635e6fb5e19ceb42ce38d4e58f45\n",
            "Successfully built sacremoses\n",
            "Installing collected packages: sacremoses, tokenizers, sentencepiece, transformers\n",
            "Successfully installed sacremoses-0.0.43 sentencepiece-0.1.91 tokenizers-0.8.1rc1 transformers-3.0.2\n"
          ],
          "name": "stdout"
        }
      ]
    },
    {
      "cell_type": "code",
      "metadata": {
        "id": "NwTHAUqXk7_B",
        "colab_type": "code",
        "colab": {
          "base_uri": "https://localhost:8080/",
          "height": 67
        },
        "outputId": "60ddd741-affd-49a0-8d4b-c898f42d3b5f"
      },
      "source": [
        "import os\n",
        "import math\n",
        "\n",
        "import torch\n",
        "from torch.nn import BCEWithLogitsLoss\n",
        "from torch.utils.data import TensorDataset, DataLoader, RandomSampler, SequentialSampler\n",
        "from transformers import AdamW, XLNetTokenizer, XLNetModel, XLNetLMHeadModel, XLNetConfig\n",
        "from keras.preprocessing.sequence import pad_sequences\n",
        "from sklearn.model_selection import train_test_split\n",
        "import numpy as np\n",
        "import pandas as pd\n",
        "from tqdm import tqdm, trange\n",
        "import matplotlib.pyplot as plt\n",
        "%matplotlib inline\n",
        "\n",
        "print(\"GPU Available: {}\".format(torch.cuda.is_available()))\n",
        "n_gpu = torch.cuda.device_count()\n",
        "print(\"Number of GPU Available: {}\".format(n_gpu))\n",
        "print(\"GPU: {}\".format(torch.cuda.get_device_name(0)))"
      ],
      "execution_count": 3,
      "outputs": [
        {
          "output_type": "stream",
          "text": [
            "GPU Available: True\n",
            "Number of GPU Available: 1\n",
            "GPU: Tesla K80\n"
          ],
          "name": "stdout"
        }
      ]
    },
    {
      "cell_type": "code",
      "metadata": {
        "id": "vothBTEKll78",
        "colab_type": "code",
        "colab": {}
      },
      "source": [
        "#device = torch.device(\"cuda\" if torch.cuda.is_available() else \"cpu\")"
      ],
      "execution_count": null,
      "outputs": []
    },
    {
      "cell_type": "markdown",
      "metadata": {
        "id": "FZbLvzAKlmsP",
        "colab_type": "text"
      },
      "source": [
        "## Import Dataset"
      ]
    },
    {
      "cell_type": "code",
      "metadata": {
        "id": "IlQpf1MmlqJI",
        "colab_type": "code",
        "colab": {
          "base_uri": "https://localhost:8080/",
          "height": 121
        },
        "outputId": "d1a20c65-7400-4240-c604-4d203d6b9c73"
      },
      "source": [
        "from google.colab import drive\n",
        "drive.mount('/content/drive')"
      ],
      "execution_count": 4,
      "outputs": [
        {
          "output_type": "stream",
          "text": [
            "Go to this URL in a browser: https://accounts.google.com/o/oauth2/auth?client_id=947318989803-6bn6qk8qdgf4n4g3pfee6491hc0brc4i.apps.googleusercontent.com&redirect_uri=urn%3aietf%3awg%3aoauth%3a2.0%3aoob&response_type=code&scope=email%20https%3a%2f%2fwww.googleapis.com%2fauth%2fdocs.test%20https%3a%2f%2fwww.googleapis.com%2fauth%2fdrive%20https%3a%2f%2fwww.googleapis.com%2fauth%2fdrive.photos.readonly%20https%3a%2f%2fwww.googleapis.com%2fauth%2fpeopleapi.readonly\n",
            "\n",
            "Enter your authorization code:\n",
            "··········\n",
            "Mounted at /content/drive\n"
          ],
          "name": "stdout"
        }
      ]
    },
    {
      "cell_type": "code",
      "metadata": {
        "id": "a2Xf8DAOl0XH",
        "colab_type": "code",
        "colab": {}
      },
      "source": [
        "train = pd.read_csv('/content/drive/My Drive/Data/toxic_comment_classification_challenge/train.csv', index_col='id')\n",
        "test = pd.read_csv('/content/drive/My Drive/Data/toxic_comment_classification_challenge/test.csv', index_col='id')"
      ],
      "execution_count": 5,
      "outputs": []
    },
    {
      "cell_type": "code",
      "metadata": {
        "id": "-ZEGGs69tD-3",
        "colab_type": "code",
        "colab": {}
      },
      "source": [
        "# get small sample of train to try\n",
        "train = train.sample(n=100)\n",
        "test = test.sample(n=100)"
      ],
      "execution_count": 12,
      "outputs": []
    },
    {
      "cell_type": "markdown",
      "metadata": {
        "id": "MN8bQOt2mVc5",
        "colab_type": "text"
      },
      "source": [
        "## Preprocess Data"
      ]
    },
    {
      "cell_type": "code",
      "metadata": {
        "id": "Cz44ag9VMutg",
        "colab_type": "code",
        "colab": {}
      },
      "source": [
        "def plot_sentence_embeddings_length(text_list, tokenizer):\n",
        "    tokenized_texts = list(map(lambda t: tokenizer.tokenize(t), text_list))\n",
        "    tokenized_texts_len = list(map(lambda t: len(t), tokenized_texts))\n",
        "    fig, ax = plt.subplots(figsize=(8, 5));\n",
        "    ax.hist(tokenized_texts_len, bins=40);\n",
        "    ax.set_xlabel(\"Length of Comment Embeddings\");\n",
        "    ax.set_ylabel(\"Number of Comments\");\n",
        "    return"
      ],
      "execution_count": 13,
      "outputs": []
    },
    {
      "cell_type": "code",
      "metadata": {
        "id": "PTOd-qKQMyFO",
        "colab_type": "code",
        "colab": {
          "base_uri": "https://localhost:8080/",
          "height": 66,
          "referenced_widgets": [
            "c65c8cf24e0648428cf67ba07a402ef9",
            "5f173bf1ae734d03812be012a04df202",
            "3b3d2949115c44f7b3394563f403804a",
            "f20a2ce4f1b74795a5ec648527f32aa6",
            "d1d79b039e96487b8248eace5bad9ee6",
            "9d30d96435784558897b7207f61e6899",
            "b17ce5b4f3b84c3387b654196f5690e4",
            "21fa820e75df4b42ba8ea9ec4fc2b56d"
          ]
        },
        "outputId": "aa6df9c4-2bdf-442c-cb11-91d8ba9b186e"
      },
      "source": [
        "tokenizer = XLNetTokenizer.from_pretrained('xlnet-base-cased', do_lower_case=True)"
      ],
      "execution_count": 8,
      "outputs": [
        {
          "output_type": "display_data",
          "data": {
            "application/vnd.jupyter.widget-view+json": {
              "model_id": "c65c8cf24e0648428cf67ba07a402ef9",
              "version_minor": 0,
              "version_major": 2
            },
            "text/plain": [
              "HBox(children=(FloatProgress(value=0.0, description='Downloading', max=798011.0, style=ProgressStyle(descripti…"
            ]
          },
          "metadata": {
            "tags": []
          }
        },
        {
          "output_type": "stream",
          "text": [
            "\n"
          ],
          "name": "stdout"
        }
      ]
    },
    {
      "cell_type": "code",
      "metadata": {
        "id": "D3Xq-qP54SiF",
        "colab_type": "code",
        "colab": {}
      },
      "source": [
        "train_text_list = train[\"comment_text\"].values\n",
        "test_text_list = test[\"comment_text\"].values"
      ],
      "execution_count": 14,
      "outputs": []
    },
    {
      "cell_type": "code",
      "metadata": {
        "id": "ocveMTIfM5cP",
        "colab_type": "code",
        "colab": {}
      },
      "source": [
        "def tokenize_inputs(text_list, tokenizer, num_embeddings=512):\n",
        "    \"\"\"\n",
        "    Tokenizes the input text input into ids. Appends the appropriate special\n",
        "    characters to the end of the text to denote end of sentence. Truncate or pad\n",
        "    the appropriate sequence length.\n",
        "    \"\"\"\n",
        "    # tokenize the text, then truncate sequence to the desired length minus 2 for\n",
        "    # the 2 special characters\n",
        "    tokenized_texts = list(map(lambda t: tokenizer.tokenize(t)[:num_embeddings-2], text_list))\n",
        "    # convert tokenized text into numeric ids for the appropriate LM\n",
        "    input_ids = [tokenizer.convert_tokens_to_ids(x) for x in tokenized_texts]\n",
        "    # append special token \"<s>\" and </s> to end of sentence\n",
        "    input_ids = [tokenizer.build_inputs_with_special_tokens(x) for x in input_ids]\n",
        "    # pad sequences\n",
        "    input_ids = pad_sequences(input_ids, maxlen=num_embeddings, dtype=\"long\", truncating=\"post\", padding=\"post\")\n",
        "    return input_ids\n",
        "\n",
        "def create_attn_masks(input_ids):\n",
        "    \"\"\"\n",
        "    Create attention masks to tell model whether attention should be applied to\n",
        "    the input id tokens. Do not want to perform attention on padding tokens.\n",
        "    \"\"\"\n",
        "    # Create attention masks\n",
        "    attention_masks = []\n",
        "\n",
        "    # Create a mask of 1s for each token followed by 0s for padding\n",
        "    for seq in input_ids:\n",
        "        seq_mask = [float(i>0) for i in seq]\n",
        "        attention_masks.append(seq_mask)\n",
        "    return attention_masks"
      ],
      "execution_count": 15,
      "outputs": []
    },
    {
      "cell_type": "code",
      "metadata": {
        "id": "p2ZVLj_OM8sV",
        "colab_type": "code",
        "colab": {}
      },
      "source": [
        "# create input id tokens\n",
        "train_input_ids = tokenize_inputs(train_text_list, tokenizer, num_embeddings=250)\n",
        "# create input id tokens\n",
        "test_input_ids = tokenize_inputs(test_text_list, tokenizer, num_embeddings=250)\n",
        "# create attention masks\n",
        "train_attention_masks = create_attn_masks(train_input_ids)\n",
        "test_attention_masks = create_attn_masks(test_input_ids)\n",
        "# add input ids and attention masks to the dataframe\n",
        "train[\"features\"] = train_input_ids.tolist()\n",
        "train[\"masks\"] = train_attention_masks\n",
        "\n",
        "test[\"features\"] = test_input_ids.tolist()\n",
        "test[\"masks\"] = test_attention_masks"
      ],
      "execution_count": 16,
      "outputs": []
    },
    {
      "cell_type": "markdown",
      "metadata": {
        "id": "uRpKDj-WN2tN",
        "colab_type": "text"
      },
      "source": [
        "## Train, Valid Split"
      ]
    },
    {
      "cell_type": "code",
      "metadata": {
        "id": "H2A1pqzcN_Gr",
        "colab_type": "code",
        "colab": {}
      },
      "source": [
        "# train valid split\n",
        "train, valid = train_test_split(train, test_size=0.2, random_state=42)\n",
        "\n",
        "X_train = train[\"features\"].values.tolist()\n",
        "X_valid = valid[\"features\"].values.tolist()\n",
        "\n",
        "train_masks = train[\"masks\"].values.tolist()\n",
        "valid_masks = valid[\"masks\"].values.tolist()\n",
        "\n",
        "label_cols = [\"toxic\", \"severe_toxic\", \"obscene\", \"threat\", \"insult\", \"identity_hate\"]\n",
        "Y_train = train[label_cols].values.tolist()\n",
        "Y_valid = valid[label_cols].values.tolist()"
      ],
      "execution_count": 17,
      "outputs": []
    },
    {
      "cell_type": "markdown",
      "metadata": {
        "id": "GQUZkER-OCVE",
        "colab_type": "text"
      },
      "source": [
        "## Create Dataloaders"
      ]
    },
    {
      "cell_type": "code",
      "metadata": {
        "id": "jChp-AsjOBrv",
        "colab_type": "code",
        "colab": {}
      },
      "source": [
        "# Convert all of our input ids and attention masks into \n",
        "# torch tensors, the required datatype for our model\n",
        "\n",
        "X_train = torch.tensor(X_train)\n",
        "X_valid = torch.tensor(X_valid)\n",
        "\n",
        "Y_train = torch.tensor(Y_train, dtype=torch.float32)\n",
        "Y_valid = torch.tensor(Y_valid, dtype=torch.float32)\n",
        "\n",
        "train_masks = torch.tensor(train_masks, dtype=torch.long)\n",
        "valid_masks = torch.tensor(valid_masks, dtype=torch.long)\n",
        "\n",
        "# Select a batch size for training\n",
        "batch_size = 16\n",
        "\n",
        "# Create an iterator of our data with torch DataLoader. This helps save on \n",
        "# memory during training because, unlike a for loop, \n",
        "# with an iterator the entire dataset does not need to be loaded into memory\n",
        "\n",
        "train_data = TensorDataset(X_train, train_masks, Y_train)\n",
        "train_sampler = RandomSampler(train_data)\n",
        "train_dataloader = DataLoader(train_data,\\\n",
        "                              sampler=train_sampler,\\\n",
        "                              batch_size=batch_size)\n",
        "\n",
        "validation_data = TensorDataset(X_valid, valid_masks, Y_valid)\n",
        "validation_sampler = SequentialSampler(validation_data)\n",
        "validation_dataloader = DataLoader(validation_data,\\\n",
        "                                   sampler=validation_sampler,\\\n",
        "                                   batch_size=batch_size)"
      ],
      "execution_count": 18,
      "outputs": []
    },
    {
      "cell_type": "code",
      "metadata": {
        "id": "XCE_3AnLOPpI",
        "colab_type": "code",
        "colab": {}
      },
      "source": [
        "def train(model, num_epochs,\\\n",
        "          optimizer,\\\n",
        "          train_dataloader, valid_dataloader,\\\n",
        "          model_save_path,\\\n",
        "          train_loss_set=[], valid_loss_set = [],\\\n",
        "          lowest_eval_loss=None, start_epoch=0,\\\n",
        "          device=\"cpu\"\n",
        "          ):\n",
        "  \"\"\"\n",
        "  Train the model and save the model with the lowest validation loss\n",
        "  \"\"\"\n",
        "\n",
        "  model.to(device)\n",
        "\n",
        "  # trange is a tqdm wrapper around the normal python range\n",
        "  for i in trange(num_epochs, desc=\"Epoch\"):\n",
        "    # if continue training from saved model\n",
        "    actual_epoch = start_epoch + i\n",
        "\n",
        "    # Training\n",
        "\n",
        "    # Set our model to training mode (as opposed to evaluation mode)\n",
        "    model.train()\n",
        "\n",
        "    # Tracking variables\n",
        "    tr_loss = 0\n",
        "    num_train_samples = 0\n",
        "\n",
        "    # Train the data for one epoch\n",
        "    for step, batch in enumerate(train_dataloader):\n",
        "      # Add batch to GPU\n",
        "      batch = tuple(t.to(device) for t in batch)\n",
        "      # Unpack the inputs from our dataloader\n",
        "      b_input_ids, b_input_mask, b_labels = batch\n",
        "      # Clear out the gradients (by default they accumulate)\n",
        "      optimizer.zero_grad()\n",
        "      # Forward pass\n",
        "      loss = model(b_input_ids, attention_mask=b_input_mask, labels=b_labels)\n",
        "      # store train loss\n",
        "      tr_loss += loss.item()\n",
        "      num_train_samples += b_labels.size(0)\n",
        "      # Backward pass\n",
        "      loss.backward()\n",
        "      # Update parameters and take a step using the computed gradient\n",
        "      optimizer.step()\n",
        "      #scheduler.step()\n",
        "\n",
        "    # Update tracking variables\n",
        "    epoch_train_loss = tr_loss/num_train_samples\n",
        "    train_loss_set.append(epoch_train_loss)\n",
        "\n",
        "    print(\"Train loss: {}\".format(epoch_train_loss))\n",
        "\n",
        "    # Validation\n",
        "\n",
        "    # Put model in evaluation mode to evaluate loss on the validation set\n",
        "    model.eval()\n",
        "\n",
        "    # Tracking variables \n",
        "    eval_loss = 0\n",
        "    num_eval_samples = 0\n",
        "\n",
        "    # Evaluate data for one epoch\n",
        "    for batch in valid_dataloader:\n",
        "      # Add batch to GPU\n",
        "      batch = tuple(t.to(device) for t in batch)\n",
        "      # Unpack the inputs from our dataloader\n",
        "      b_input_ids, b_input_mask, b_labels = batch\n",
        "      # Telling the model not to compute or store gradients,\n",
        "      # saving memory and speeding up validation\n",
        "      with torch.no_grad():\n",
        "        # Forward pass, calculate validation loss\n",
        "        loss = model(b_input_ids, attention_mask=b_input_mask, labels=b_labels)\n",
        "        # store valid loss\n",
        "        eval_loss += loss.item()\n",
        "        num_eval_samples += b_labels.size(0)\n",
        "\n",
        "    epoch_eval_loss = eval_loss/num_eval_samples\n",
        "    valid_loss_set.append(epoch_eval_loss)\n",
        "\n",
        "    print(\"Valid loss: {}\".format(epoch_eval_loss))\n",
        "\n",
        "    if lowest_eval_loss == None:\n",
        "      lowest_eval_loss = epoch_eval_loss\n",
        "      # save model\n",
        "      save_model(model, model_save_path, actual_epoch,\\\n",
        "                 lowest_eval_loss, train_loss_set, valid_loss_set)\n",
        "    else:\n",
        "      if epoch_eval_loss < lowest_eval_loss:\n",
        "        lowest_eval_loss = epoch_eval_loss\n",
        "        # save model\n",
        "        save_model(model, model_save_path, actual_epoch,\\\n",
        "                   lowest_eval_loss, train_loss_set, valid_loss_set)\n",
        "    print(\"\\n\")\n",
        "\n",
        "  return model, train_loss_set, valid_loss_set\n",
        "\n",
        "\n",
        "def save_model(model, save_path, epochs, lowest_eval_loss, train_loss_hist, valid_loss_hist):\n",
        "  \"\"\"\n",
        "  Save the model to the path directory provided\n",
        "  \"\"\"\n",
        "  model_to_save = model.module if hasattr(model, 'module') else model\n",
        "  checkpoint = {'epochs': epochs, \\\n",
        "                'lowest_eval_loss': lowest_eval_loss,\\\n",
        "                'state_dict': model_to_save.state_dict(),\\\n",
        "                'train_loss_hist': train_loss_hist,\\\n",
        "                'valid_loss_hist': valid_loss_hist\n",
        "               }\n",
        "  torch.save(checkpoint, save_path)\n",
        "  print(\"Saving model at epoch {} with validation loss of {}\".format(epochs,\\\n",
        "                                                                     lowest_eval_loss))\n",
        "  return\n",
        "  \n",
        "def load_model(save_path):\n",
        "  \"\"\"\n",
        "  Load the model from the path directory provided\n",
        "  \"\"\"\n",
        "  checkpoint = torch.load(save_path)\n",
        "  model_state_dict = checkpoint['state_dict']\n",
        "  model = XLNetForMultiLabelSequenceClassification(num_labels=model_state_dict[\"classifier.weight\"].size()[0])\n",
        "  model.load_state_dict(model_state_dict)\n",
        "\n",
        "  epochs = checkpoint[\"epochs\"]\n",
        "  lowest_eval_loss = checkpoint[\"lowest_eval_loss\"]\n",
        "  train_loss_hist = checkpoint[\"train_loss_hist\"]\n",
        "  valid_loss_hist = checkpoint[\"valid_loss_hist\"]\n",
        "  \n",
        "  return model, epochs, lowest_eval_loss, train_loss_hist, valid_loss_hist"
      ],
      "execution_count": 19,
      "outputs": []
    },
    {
      "cell_type": "markdown",
      "metadata": {
        "id": "OoxSrbFDOUW0",
        "colab_type": "text"
      },
      "source": [
        "## Train Model from Scratch"
      ]
    },
    {
      "cell_type": "code",
      "metadata": {
        "id": "wGMnhaIuUbXx",
        "colab_type": "code",
        "colab": {}
      },
      "source": [
        "torch.cuda.empty_cache()"
      ],
      "execution_count": 20,
      "outputs": []
    },
    {
      "cell_type": "code",
      "metadata": {
        "id": "8VMI7VWpOKj0",
        "colab_type": "code",
        "colab": {
          "base_uri": "https://localhost:8080/",
          "height": 114,
          "referenced_widgets": [
            "762e096d83ad4d2da1a1eabdf1a480a9",
            "f7db7146feea443aa1a38752b2d70f42",
            "a44d453a84f74f3fbcbd0314190042fa",
            "8ad076b945744438824f89a0a26a7dac",
            "f81ac122d5b24bbd8f0dc17cf510af62",
            "cb24bbe04e1948d58a6ffd029ac7a1d6",
            "dfa54375d80949e18c53241f8d7a95bc",
            "a7a8dcba4f4e47b6b61d633dcb9fd892",
            "5924d3539110486596cc56ab06983076",
            "84168ce181c24477af61042b482c4297",
            "edc25cd550f84e8488721f4960df1b0c",
            "87266ed5b5f747299c8058fdcbb097f0",
            "613671e974824cfb97197e420dd05e72",
            "61f759d794d7451bb80cc380540fd35e",
            "1a126d61d10b4e3282c5c3616da2716f",
            "3f8f4bb9ae634340ae7c05b9124cf302"
          ]
        },
        "outputId": "dbb48f34-0ff7-4e35-d09b-9ab3c5d466cf"
      },
      "source": [
        "#config = XLNetConfig()\n",
        "        \n",
        "class XLNetForMultiLabelSequenceClassification(torch.nn.Module):\n",
        "  \n",
        "  def __init__(self, num_labels=2):\n",
        "    super(XLNetForMultiLabelSequenceClassification, self).__init__()\n",
        "    self.num_labels = num_labels\n",
        "    self.xlnet = XLNetModel.from_pretrained('xlnet-base-cased')\n",
        "    self.classifier = torch.nn.Linear(768, num_labels)\n",
        "\n",
        "    torch.nn.init.xavier_normal_(self.classifier.weight)\n",
        "\n",
        "  def forward(self, input_ids, token_type_ids=None,\\\n",
        "              attention_mask=None, labels=None):\n",
        "    # last hidden layer\n",
        "    last_hidden_state = self.xlnet(input_ids=input_ids,\\\n",
        "                                   attention_mask=attention_mask,\\\n",
        "                                   token_type_ids=token_type_ids)\n",
        "    # pool the outputs into a mean vector\n",
        "    mean_last_hidden_state = self.pool_hidden_state(last_hidden_state)\n",
        "    logits = self.classifier(mean_last_hidden_state)\n",
        "        \n",
        "    if labels is not None:\n",
        "      loss_fct = BCEWithLogitsLoss()\n",
        "      loss = loss_fct(logits.view(-1, self.num_labels),\\\n",
        "                      labels.view(-1, self.num_labels))\n",
        "      return loss\n",
        "    else:\n",
        "      return logits\n",
        "    \n",
        "  def freeze_xlnet_decoder(self):\n",
        "    \"\"\"\n",
        "    Freeze XLNet weight parameters. They will not be updated during training.\n",
        "    \"\"\"\n",
        "    for param in self.xlnet.parameters():\n",
        "      param.requires_grad = False\n",
        "    \n",
        "  def unfreeze_xlnet_decoder(self):\n",
        "    \"\"\"\n",
        "    Unfreeze XLNet weight parameters. They will be updated during training.\n",
        "    \"\"\"\n",
        "    for param in self.xlnet.parameters():\n",
        "      param.requires_grad = True\n",
        "    \n",
        "  def pool_hidden_state(self, last_hidden_state):\n",
        "    \"\"\"\n",
        "    Pool the output vectors into a single mean vector \n",
        "    \"\"\"\n",
        "    last_hidden_state = last_hidden_state[0]\n",
        "    mean_last_hidden_state = torch.mean(last_hidden_state, 1)\n",
        "    return mean_last_hidden_state\n",
        "    \n",
        "model = XLNetForMultiLabelSequenceClassification(num_labels=len(Y_train[0]))\n",
        "#model = torch.nn.DataParallel(model)\n",
        "#model.cuda()"
      ],
      "execution_count": 21,
      "outputs": [
        {
          "output_type": "display_data",
          "data": {
            "application/vnd.jupyter.widget-view+json": {
              "model_id": "762e096d83ad4d2da1a1eabdf1a480a9",
              "version_minor": 0,
              "version_major": 2
            },
            "text/plain": [
              "HBox(children=(FloatProgress(value=0.0, description='Downloading', max=760.0, style=ProgressStyle(description_…"
            ]
          },
          "metadata": {
            "tags": []
          }
        },
        {
          "output_type": "stream",
          "text": [
            "\n"
          ],
          "name": "stdout"
        },
        {
          "output_type": "display_data",
          "data": {
            "application/vnd.jupyter.widget-view+json": {
              "model_id": "5924d3539110486596cc56ab06983076",
              "version_minor": 0,
              "version_major": 2
            },
            "text/plain": [
              "HBox(children=(FloatProgress(value=0.0, description='Downloading', max=467042463.0, style=ProgressStyle(descri…"
            ]
          },
          "metadata": {
            "tags": []
          }
        },
        {
          "output_type": "stream",
          "text": [
            "\n"
          ],
          "name": "stdout"
        }
      ]
    },
    {
      "cell_type": "code",
      "metadata": {
        "id": "6QuSJxanOMRy",
        "colab_type": "code",
        "colab": {}
      },
      "source": [
        "optimizer = AdamW(model.parameters(), lr=2e-5, weight_decay=0.01, correct_bias=False)\n",
        "#scheduler = WarmupLinearSchedule(optimizer, warmup_steps=num_warmup_steps, t_total=num_total_steps)  # PyTorch scheduler"
      ],
      "execution_count": 22,
      "outputs": []
    },
    {
      "cell_type": "code",
      "metadata": {
        "id": "pxCN5nLvOO2a",
        "colab_type": "code",
        "colab": {
          "base_uri": "https://localhost:8080/",
          "height": 235
        },
        "outputId": "f6e063ff-1328-42ac-b05a-e796faf64ad7"
      },
      "source": [
        "num_epochs=2\n",
        "\n",
        "cwd = os.getcwd()\n",
        "#model_save_path = output_model_file = os.path.join(cwd, \"drive/My Drive/Models/xlnet_toxic.bin\")\n",
        "model_save_path = output_model_file = os.path.join(cwd, 'Models')\n",
        "model, train_loss_set, valid_loss_set = train(model=model,\\\n",
        "                                              num_epochs=num_epochs,\\\n",
        "                                              optimizer=optimizer,\\\n",
        "                                              train_dataloader=train_dataloader,\\\n",
        "                                              valid_dataloader=validation_dataloader,\\\n",
        "                                              model_save_path=model_save_path,\\\n",
        "                                              device=\"cuda\")"
      ],
      "execution_count": 24,
      "outputs": [
        {
          "output_type": "stream",
          "text": [
            "\n",
            "Epoch:   0%|          | 0/2 [00:00<?, ?it/s]\u001b[A"
          ],
          "name": "stderr"
        },
        {
          "output_type": "stream",
          "text": [
            "Train loss: 0.012048441357910633\n",
            "Valid loss: 0.010382962599396705\n"
          ],
          "name": "stdout"
        },
        {
          "output_type": "stream",
          "text": [
            "\n",
            "Epoch:  50%|█████     | 1/2 [00:13<00:13, 13.03s/it]\u001b[A"
          ],
          "name": "stderr"
        },
        {
          "output_type": "stream",
          "text": [
            "Saving model at epoch 0 with validation loss of 0.010382962599396705\n",
            "\n",
            "\n",
            "Train loss: 0.011567203793674707\n"
          ],
          "name": "stdout"
        },
        {
          "output_type": "stream",
          "text": [
            "\n",
            "Epoch: 100%|██████████| 2/2 [00:24<00:00, 12.33s/it]"
          ],
          "name": "stderr"
        },
        {
          "output_type": "stream",
          "text": [
            "Valid loss: 0.01089141210541129\n",
            "\n",
            "\n"
          ],
          "name": "stdout"
        },
        {
          "output_type": "stream",
          "text": [
            "\n"
          ],
          "name": "stderr"
        }
      ]
    },
    {
      "cell_type": "code",
      "metadata": {
        "id": "e5ZPpkIVffCW",
        "colab_type": "code",
        "colab": {
          "base_uri": "https://localhost:8080/",
          "height": 367
        },
        "outputId": "08cfcf05-9007-406c-b68f-f9bd1069d19b"
      },
      "source": [
        "# Plot loss\n",
        "num_epochs = np.arange(len(train_loss_set))\n",
        "\n",
        "fig, ax = plt.subplots(figsize=(10, 5));\n",
        "ax.plot(num_epochs, np.array(train_loss_set), label=\"Train Loss\")\n",
        "ax.plot(num_epochs, np.array(valid_loss_set), 'g-', label=\"Valid Loss\")\n",
        "#ax1.plot(episode_record, lose_record, 'r-', label=\"Lose %\")\n",
        "ax.set_xlabel(\"Number of Epochs\")\n",
        "ax.set_ylabel(\"Loss\")\n",
        "ax.set_title(\"Loss vs Number of Epochs\")"
      ],
      "execution_count": 25,
      "outputs": [
        {
          "output_type": "execute_result",
          "data": {
            "text/plain": [
              "Text(0.5, 1.0, 'Loss vs Number of Epochs')"
            ]
          },
          "metadata": {
            "tags": []
          },
          "execution_count": 25
        },
        {
          "output_type": "display_data",
          "data": {
            "image/png": "[encoded data removed]",
            "text/plain": [
              "<Figure size 720x360 with 1 Axes>"
            ]
          },
          "metadata": {
            "tags": [],
            "needs_background": "light"
          }
        }
      ]
    },
    {
      "cell_type": "markdown",
      "metadata": {
        "id": "sHt9MdUoOaLl",
        "colab_type": "text"
      },
      "source": [
        "## Train Model From Previous Checkpoint"
      ]
    },
    {
      "cell_type": "code",
      "metadata": {
        "id": "lzZEnoI3Ob2u",
        "colab_type": "code",
        "colab": {}
      },
      "source": [
        "cwd = os.getcwd()\n",
        "model_save_path = output_model_file = os.path.join(cwd, \"Models\")\n",
        "model, start_epoch, lowest_eval_loss, train_loss_hist, valid_loss_hist = load_model(model_save_path)"
      ],
      "execution_count": 27,
      "outputs": []
    },
    {
      "cell_type": "code",
      "metadata": {
        "id": "HrTdby8Uaqqb",
        "colab_type": "code",
        "colab": {}
      },
      "source": [
        "optimizer = AdamW(model.parameters(), lr=2e-5, weight_decay=0.01, correct_bias=False)"
      ],
      "execution_count": 28,
      "outputs": []
    },
    {
      "cell_type": "code",
      "metadata": {
        "id": "iiwYWrPsREQ-",
        "colab_type": "code",
        "colab": {
          "base_uri": "https://localhost:8080/",
          "height": 336
        },
        "outputId": "8c5edb77-2e02-4fe4-b562-0ee10098e682"
      },
      "source": [
        "num_epochs=3\n",
        "model, train_loss_set, valid_loss_set = train(model=model,\\\n",
        "                                              num_epochs=num_epochs,\\\n",
        "                                              optimizer=optimizer,\\\n",
        "                                              train_dataloader=train_dataloader,\\\n",
        "                                              valid_dataloader=validation_dataloader,\\\n",
        "                                              model_save_path=model_save_path,\\\n",
        "                                              train_loss_set=train_loss_hist,\\\n",
        "                                              valid_loss_set=valid_loss_hist,\\\n",
        "                                              lowest_eval_loss=lowest_eval_loss,\\\n",
        "                                              start_epoch=start_epoch,\\\n",
        "                                              device=\"cuda\")"
      ],
      "execution_count": 29,
      "outputs": [
        {
          "output_type": "stream",
          "text": [
            "\n",
            "Epoch:   0%|          | 0/3 [00:00<?, ?it/s]\u001b[A"
          ],
          "name": "stderr"
        },
        {
          "output_type": "stream",
          "text": [
            "Train loss: 0.017967663146555422\n"
          ],
          "name": "stdout"
        },
        {
          "output_type": "stream",
          "text": [
            "\n",
            "Epoch:  33%|███▎      | 1/3 [00:11<00:23, 11.65s/it]\u001b[A"
          ],
          "name": "stderr"
        },
        {
          "output_type": "stream",
          "text": [
            "Valid loss: 0.012439918518066407\n",
            "\n",
            "\n",
            "Train loss: 0.010380762442946435\n",
            "Valid loss: 0.00782701950520277\n"
          ],
          "name": "stdout"
        },
        {
          "output_type": "stream",
          "text": [
            "\n",
            "Epoch:  67%|██████▋   | 2/3 [00:24<00:12, 12.12s/it]\u001b[A"
          ],
          "name": "stderr"
        },
        {
          "output_type": "stream",
          "text": [
            "Saving model at epoch 1 with validation loss of 0.00782701950520277\n",
            "\n",
            "\n",
            "Train loss: 0.00686686160042882\n",
            "Valid loss: 0.0056544291786849495\n"
          ],
          "name": "stdout"
        },
        {
          "output_type": "stream",
          "text": [
            "\n",
            "Epoch: 100%|██████████| 3/3 [00:38<00:00, 12.68s/it]"
          ],
          "name": "stderr"
        },
        {
          "output_type": "stream",
          "text": [
            "Saving model at epoch 2 with validation loss of 0.0056544291786849495\n",
            "\n",
            "\n"
          ],
          "name": "stdout"
        },
        {
          "output_type": "stream",
          "text": [
            "\n"
          ],
          "name": "stderr"
        }
      ]
    },
    {
      "cell_type": "code",
      "metadata": {
        "id": "cew4rYj16aJl",
        "colab_type": "code",
        "colab": {
          "base_uri": "https://localhost:8080/",
          "height": 367
        },
        "outputId": "f08b8e89-b918-4667-e90e-6423f88cdd30"
      },
      "source": [
        "# Plot loss\n",
        "num_epochs = np.arange(len(train_loss_set))\n",
        "\n",
        "fig, ax = plt.subplots(figsize=(10, 5));\n",
        "ax.plot(num_epochs, np.array(train_loss_set), label=\"Train Loss\")\n",
        "ax.plot(num_epochs, np.array(valid_loss_set), 'g-', label=\"Valid Loss\")\n",
        "#ax1.plot(episode_record, lose_record, 'r-', label=\"Lose %\")\n",
        "ax.set_xlabel(\"Number of Epochs\")\n",
        "ax.set_ylabel(\"Loss\")\n",
        "ax.set_title(\"Loss vs Number of Epochs\")"
      ],
      "execution_count": 30,
      "outputs": [
        {
          "output_type": "execute_result",
          "data": {
            "text/plain": [
              "Text(0.5, 1.0, 'Loss vs Number of Epochs')"
            ]
          },
          "metadata": {
            "tags": []
          },
          "execution_count": 30
        },
        {
          "output_type": "display_data",
          "data": {
            "image/png": "[encoded data removed]",
            "text/plain": [
              "<Figure size 720x360 with 1 Axes>"
            ]
          },
          "metadata": {
            "tags": [],
            "needs_background": "light"
          }
        }
      ]
    },
    {
      "cell_type": "markdown",
      "metadata": {
        "id": "12PYfqX3QrE-",
        "colab_type": "text"
      },
      "source": [
        "## Get Predictions"
      ]
    },
    {
      "cell_type": "code",
      "metadata": {
        "id": "Ey9FMYJxQqGs",
        "colab_type": "code",
        "colab": {}
      },
      "source": [
        "def generate_predictions(model, df, num_labels, device=\"cpu\", batch_size=32):\n",
        "  num_iter = math.ceil(df.shape[0]/batch_size)\n",
        "  \n",
        "  pred_probs = np.array([]).reshape(0, num_labels)\n",
        "  \n",
        "  model.to(device)\n",
        "  model.eval()\n",
        "  \n",
        "  for i in range(num_iter):\n",
        "    df_subset = df.iloc[i*batch_size:(i+1)*batch_size,:]\n",
        "    X = df_subset[\"features\"].values.tolist()\n",
        "    masks = df_subset[\"masks\"].values.tolist()\n",
        "    X = torch.tensor(X)\n",
        "    masks = torch.tensor(masks, dtype=torch.long)\n",
        "    X = X.to(device)\n",
        "    masks = masks.to(device)\n",
        "    with torch.no_grad():\n",
        "      logits = model(input_ids=X, attention_mask=masks)\n",
        "      logits = logits.sigmoid().detach().cpu().numpy()\n",
        "      pred_probs = np.vstack([pred_probs, logits])\n",
        "  \n",
        "  return pred_probs"
      ],
      "execution_count": 31,
      "outputs": []
    },
    {
      "cell_type": "code",
      "metadata": {
        "id": "wo0YyAH6XGTh",
        "colab_type": "code",
        "colab": {
          "base_uri": "https://localhost:8080/",
          "height": 1000
        },
        "outputId": "23cd88a4-8201-4358-bdd5-0898260fdb82"
      },
      "source": [
        "num_labels = len(label_cols)\n",
        "pred_probs = generate_predictions(model, test, num_labels, device=\"cuda\", batch_size=32)\n",
        "pred_probs"
      ],
      "execution_count": 32,
      "outputs": [
        {
          "output_type": "execute_result",
          "data": {
            "text/plain": [
              "array([[8.47498775e-01, 5.28851291e-03, 2.75254071e-01, 1.10191712e-02,\n",
              "        5.73680699e-01, 3.94195458e-03],\n",
              "       [8.08631927e-02, 1.50148233e-03, 1.64668611e-03, 2.93011690e-04,\n",
              "        2.28061038e-03, 1.32608460e-03],\n",
              "       [3.03586453e-01, 1.59935781e-03, 6.83232676e-03, 6.06743561e-04,\n",
              "        1.48619805e-02, 1.07122608e-03],\n",
              "       [2.11075962e-01, 1.79364777e-03, 4.22228873e-03, 5.09508944e-04,\n",
              "        9.63884499e-03, 1.51514553e-03],\n",
              "       [7.49880731e-01, 4.39048093e-03, 9.04312953e-02, 1.97972334e-03,\n",
              "        1.86765105e-01, 2.29417719e-03],\n",
              "       [7.20549345e-01, 2.97644874e-03, 2.73051541e-02, 1.41795538e-03,\n",
              "        5.05878776e-02, 1.58901396e-03],\n",
              "       [4.88679484e-02, 1.12264173e-03, 7.71198364e-04, 1.68590690e-04,\n",
              "        1.61242718e-03, 1.15361123e-03],\n",
              "       [1.69447124e-01, 1.57633889e-03, 3.69325466e-03, 4.03993647e-04,\n",
              "        9.95277520e-03, 1.08596869e-03],\n",
              "       [2.47763231e-01, 1.58293045e-03, 4.74704243e-03, 4.82419360e-04,\n",
              "        8.10387731e-03, 1.19192246e-03],\n",
              "       [4.75599021e-02, 9.53774841e-04, 7.46596896e-04, 1.01950631e-04,\n",
              "        1.06954610e-03, 8.32076301e-04],\n",
              "       [2.19844371e-01, 1.56446325e-03, 3.79159255e-03, 2.75032013e-04,\n",
              "        5.30635053e-03, 1.29934214e-03],\n",
              "       [2.69197196e-01, 1.50415639e-03, 6.60427148e-03, 5.67742507e-04,\n",
              "        1.15309590e-02, 1.26608019e-03],\n",
              "       [8.38159740e-01, 3.70695163e-03, 1.36333719e-01, 2.74790707e-03,\n",
              "        2.56618142e-01, 2.02462496e-03],\n",
              "       [2.20082536e-01, 1.47227850e-03, 3.45048727e-03, 3.14162287e-04,\n",
              "        5.15279127e-03, 1.71114109e-03],\n",
              "       [1.18332952e-01, 1.38426386e-03, 3.22261150e-03, 3.67909641e-04,\n",
              "        4.77491878e-03, 1.46525796e-03],\n",
              "       [7.08023787e-01, 1.83396484e-03, 4.82648350e-02, 1.34891190e-03,\n",
              "        9.86424834e-02, 1.12139701e-03],\n",
              "       [8.90225589e-01, 4.78377799e-03, 3.43031913e-01, 5.57907904e-03,\n",
              "        6.30327642e-01, 3.50026530e-03],\n",
              "       [9.52481031e-02, 1.20664202e-03, 1.53240550e-03, 2.24274132e-04,\n",
              "        1.77109370e-03, 1.12190517e-03],\n",
              "       [2.45676301e-02, 1.23517134e-03, 1.08205073e-03, 1.63562159e-04,\n",
              "        1.96240097e-03, 1.05016865e-03],\n",
              "       [2.10223526e-01, 1.79357000e-03, 3.71645601e-03, 3.42010113e-04,\n",
              "        5.17352438e-03, 9.16733756e-04],\n",
              "       [2.56964445e-01, 1.65279454e-03, 6.58051344e-03, 3.61721410e-04,\n",
              "        9.76551604e-03, 1.40472129e-03],\n",
              "       [3.17823291e-01, 1.56559807e-03, 8.74991622e-03, 4.45094687e-04,\n",
              "        1.60501972e-02, 1.17139344e-03],\n",
              "       [1.20268889e-01, 1.12141413e-03, 9.86477709e-04, 1.67988619e-04,\n",
              "        1.51541107e-03, 1.19839772e-03],\n",
              "       [5.30763030e-01, 2.33473605e-03, 1.58997867e-02, 9.29373957e-04,\n",
              "        2.27748249e-02, 1.75432209e-03],\n",
              "       [8.66215825e-02, 1.41136278e-03, 8.02656694e-04, 1.34393238e-04,\n",
              "        1.16474810e-03, 9.09006165e-04],\n",
              "       [1.83443725e-01, 1.27550529e-03, 3.29439761e-03, 3.21432570e-04,\n",
              "        4.17552143e-03, 8.30576406e-04],\n",
              "       [2.13690609e-01, 1.52399379e-03, 2.37801275e-03, 3.96934542e-04,\n",
              "        4.32812283e-03, 1.43060950e-03],\n",
              "       [9.53698456e-02, 1.74219068e-03, 1.42718526e-03, 2.10572616e-04,\n",
              "        2.38635670e-03, 1.12014846e-03],\n",
              "       [1.41685352e-01, 1.97805930e-03, 1.94099080e-03, 3.15331650e-04,\n",
              "        3.99011560e-03, 1.51108741e-03],\n",
              "       [1.94198027e-01, 1.85292808e-03, 8.35785735e-03, 6.80788129e-04,\n",
              "        1.65828727e-02, 1.40346366e-03],\n",
              "       [4.47143555e-01, 3.08925426e-03, 2.33551916e-02, 1.27889938e-03,\n",
              "        5.45182899e-02, 2.13571894e-03],\n",
              "       [3.80788445e-01, 2.91068596e-03, 3.30772847e-02, 7.82444316e-04,\n",
              "        5.01079261e-02, 2.13985820e-03],\n",
              "       [3.60157222e-01, 2.50548683e-03, 8.99553578e-03, 5.94001904e-04,\n",
              "        1.04422234e-02, 1.65541982e-03],\n",
              "       [4.14277971e-01, 2.47471407e-03, 2.51765233e-02, 7.65795354e-04,\n",
              "        4.29735258e-02, 1.22221757e-03],\n",
              "       [1.11247808e-01, 1.19182980e-03, 1.48371048e-03, 1.72586209e-04,\n",
              "        1.70539611e-03, 9.13101714e-04],\n",
              "       [5.06092347e-02, 1.00152439e-03, 8.30120232e-04, 1.25930994e-04,\n",
              "        1.38447538e-03, 1.08217390e-03],\n",
              "       [7.72732317e-01, 4.69809351e-03, 1.82157516e-01, 5.37445443e-03,\n",
              "        3.61099988e-01, 3.35315499e-03],\n",
              "       [1.41623104e-02, 1.64165325e-03, 4.91973187e-04, 7.02583566e-05,\n",
              "        9.65599902e-04, 1.23348308e-03],\n",
              "       [6.09642603e-02, 1.10703846e-03, 9.90051776e-04, 1.74282744e-04,\n",
              "        1.56768877e-03, 9.60106379e-04],\n",
              "       [5.85209548e-01, 2.16589193e-03, 2.42706537e-02, 1.09416398e-03,\n",
              "        3.30516435e-02, 1.81765854e-03],\n",
              "       [6.03976473e-02, 1.58912968e-03, 6.66991808e-04, 2.14984466e-04,\n",
              "        1.34444854e-03, 1.42348511e-03],\n",
              "       [1.25252411e-01, 1.57427415e-03, 1.96415209e-03, 2.24616524e-04,\n",
              "        3.52493045e-03, 1.29795307e-03],\n",
              "       [9.74716023e-02, 1.06865691e-03, 1.10591063e-03, 1.89609287e-04,\n",
              "        1.55942224e-03, 8.32949649e-04],\n",
              "       [6.37396812e-01, 2.13839440e-03, 2.84559708e-02, 1.15971453e-03,\n",
              "        5.38683906e-02, 1.29919045e-03],\n",
              "       [5.74822426e-01, 2.35030497e-03, 1.60451811e-02, 1.16466882e-03,\n",
              "        3.40496153e-02, 1.09033694e-03],\n",
              "       [9.71721858e-02, 1.92862831e-03, 1.69494364e-03, 3.12046497e-04,\n",
              "        5.38044004e-03, 1.48652331e-03],\n",
              "       [2.65455581e-02, 1.95997162e-03, 6.74192444e-04, 1.13916678e-04,\n",
              "        9.84401326e-04, 1.22159673e-03],\n",
              "       [6.29066110e-01, 2.07978650e-03, 2.43567880e-02, 1.11879664e-03,\n",
              "        3.87666598e-02, 1.49549148e-03],\n",
              "       [6.92656636e-02, 1.31893798e-03, 1.38006953e-03, 2.30827820e-04,\n",
              "        1.82239525e-03, 1.01772207e-03],\n",
              "       [9.25309435e-02, 1.49874692e-03, 2.19344883e-03, 3.14618490e-04,\n",
              "        2.78495718e-03, 1.80815719e-03],\n",
              "       [9.58145559e-02, 1.37998408e-03, 1.36787992e-03, 2.52399128e-04,\n",
              "        2.98930681e-03, 8.84383859e-04],\n",
              "       [3.57755929e-01, 2.62918463e-03, 1.30957086e-02, 8.29293975e-04,\n",
              "        2.23135389e-02, 2.03730608e-03],\n",
              "       [1.73146054e-01, 1.49136246e-03, 2.70002172e-03, 3.24359164e-04,\n",
              "        5.40785631e-03, 1.35813525e-03],\n",
              "       [5.65175861e-02, 1.14315993e-03, 5.20399713e-04, 1.35110473e-04,\n",
              "        9.47293185e-04, 9.61452024e-04],\n",
              "       [2.67961591e-01, 2.03371723e-03, 5.34376269e-03, 6.85930427e-04,\n",
              "        1.14146098e-02, 1.25025585e-03],\n",
              "       [8.78079906e-02, 1.77643541e-03, 4.72980086e-03, 4.89630038e-04,\n",
              "        5.60235744e-03, 1.20808766e-03],\n",
              "       [4.82763082e-01, 2.37002736e-03, 1.19099431e-02, 5.91175107e-04,\n",
              "        1.85416210e-02, 1.31579174e-03],\n",
              "       [4.06398892e-01, 2.21195375e-03, 1.78701077e-02, 6.07297174e-04,\n",
              "        2.10052971e-02, 1.44055043e-03],\n",
              "       [7.88292140e-02, 1.89009006e-03, 4.48207790e-03, 2.35947664e-04,\n",
              "        5.64780738e-03, 1.47388875e-03],\n",
              "       [8.58360052e-01, 4.64024674e-03, 1.88276619e-01, 2.89048371e-03,\n",
              "        2.09482461e-01, 3.52690904e-03],\n",
              "       [1.23762041e-01, 1.61138491e-03, 1.45513972e-03, 2.23641182e-04,\n",
              "        2.75130523e-03, 1.50658539e-03],\n",
              "       [4.56397414e-01, 2.01629568e-03, 1.09870881e-02, 7.80495757e-04,\n",
              "        2.10161004e-02, 1.34309451e-03],\n",
              "       [1.73726350e-01, 1.63028797e-03, 2.68001435e-03, 3.52697563e-04,\n",
              "        4.79061157e-03, 1.08107342e-03],\n",
              "       [9.17707086e-02, 1.19869236e-03, 1.13048707e-03, 1.80252842e-04,\n",
              "        1.32305012e-03, 1.09010900e-03],\n",
              "       [2.39201207e-02, 1.02172897e-03, 3.30762938e-04, 7.58320530e-05,\n",
              "        6.65582076e-04, 1.12130574e-03],\n",
              "       [2.11247116e-01, 2.52942042e-03, 3.13359424e-02, 7.70760525e-04,\n",
              "        4.66786027e-02, 1.60128216e-03],\n",
              "       [1.81139022e-01, 1.68043212e-03, 2.51167384e-03, 2.71880504e-04,\n",
              "        2.80469470e-03, 1.23779592e-03],\n",
              "       [3.52202579e-02, 1.70210260e-03, 1.19029591e-03, 1.36868155e-04,\n",
              "        4.78191208e-03, 1.22333341e-03],\n",
              "       [8.16441059e-01, 6.94032013e-03, 3.18122327e-01, 1.88086815e-02,\n",
              "        6.58376753e-01, 4.92054923e-03],\n",
              "       [3.81284729e-02, 1.03608181e-03, 5.40025765e-04, 1.06376305e-04,\n",
              "        6.97016018e-04, 9.14303993e-04],\n",
              "       [1.59580827e-01, 1.40054966e-03, 2.49920762e-03, 2.84956943e-04,\n",
              "        5.66683104e-03, 1.14849291e-03],\n",
              "       [2.31033266e-02, 1.58101611e-03, 1.57261034e-03, 1.56077891e-04,\n",
              "        4.01591975e-03, 1.34770875e-03],\n",
              "       [1.07107185e-01, 1.38407550e-03, 1.66707824e-03, 2.33465049e-04,\n",
              "        2.91653187e-03, 1.43040263e-03],\n",
              "       [6.74124435e-02, 1.93443510e-03, 1.04985191e-02, 7.25809718e-04,\n",
              "        1.59356557e-02, 1.45586755e-03],\n",
              "       [1.67849332e-01, 1.72535982e-03, 1.83819979e-03, 2.68012256e-04,\n",
              "        2.30945880e-03, 1.67412753e-03],\n",
              "       [9.33801159e-02, 1.20584574e-03, 6.64647145e-04, 1.78025672e-04,\n",
              "        8.64347909e-04, 8.02361581e-04],\n",
              "       [5.35959043e-02, 1.26137328e-03, 9.36678087e-04, 1.20309589e-04,\n",
              "        1.31871249e-03, 9.57062817e-04],\n",
              "       [7.60353804e-01, 5.50474552e-03, 1.68189272e-01, 7.64584122e-03,\n",
              "        2.60910243e-01, 3.58136068e-03],\n",
              "       [4.12365682e-02, 1.18893792e-03, 3.71065486e-04, 8.94709156e-05,\n",
              "        5.62691130e-04, 1.17419858e-03],\n",
              "       [8.90405953e-01, 5.79064712e-03, 3.64027411e-01, 6.03397703e-03,\n",
              "        5.93359649e-01, 3.70553765e-03],\n",
              "       [1.33879408e-01, 1.75160856e-03, 2.43271748e-03, 3.99502664e-04,\n",
              "        4.22219886e-03, 2.21893773e-03],\n",
              "       [5.46346083e-02, 1.38227711e-03, 8.91186064e-04, 1.67773003e-04,\n",
              "        1.24898064e-03, 1.35665294e-03],\n",
              "       [2.74094731e-01, 1.32795714e-03, 3.05449846e-03, 3.36429744e-04,\n",
              "        4.86897631e-03, 9.40676313e-04],\n",
              "       [4.03702781e-02, 1.76299713e-03, 4.22773976e-03, 2.19596710e-04,\n",
              "        1.23641118e-02, 1.93585036e-03],\n",
              "       [3.76788266e-02, 1.15566968e-03, 7.66847981e-04, 1.37063267e-04,\n",
              "        2.13492149e-03, 1.18946517e-03],\n",
              "       [5.29387854e-02, 1.10882579e-03, 6.47041714e-04, 1.52216817e-04,\n",
              "        1.00594666e-03, 1.19578710e-03],\n",
              "       [7.35841841e-02, 1.65216520e-03, 3.18962988e-03, 2.12406623e-04,\n",
              "        4.04365454e-03, 1.41176337e-03],\n",
              "       [3.90121222e-01, 1.74518453e-03, 1.22294622e-02, 4.94202424e-04,\n",
              "        2.41279900e-02, 1.19913369e-03],\n",
              "       [1.94181323e-01, 1.67476188e-03, 2.62280018e-03, 3.71275702e-04,\n",
              "        4.05158196e-03, 1.44196895e-03],\n",
              "       [2.16810435e-01, 2.15300126e-03, 7.41234049e-03, 5.34816005e-04,\n",
              "        1.12595167e-02, 1.66027818e-03],\n",
              "       [2.04137504e-01, 1.67543907e-03, 5.23566455e-03, 4.20582801e-04,\n",
              "        8.00129492e-03, 1.65885850e-03],\n",
              "       [2.51821846e-01, 1.78058608e-03, 5.49145136e-03, 4.47784056e-04,\n",
              "        9.87206027e-03, 1.45150756e-03],\n",
              "       [1.53678954e-01, 1.79184030e-03, 3.90945561e-03, 5.16025524e-04,\n",
              "        8.44117999e-03, 1.63812132e-03],\n",
              "       [8.44095349e-01, 5.35590434e-03, 2.94090271e-01, 8.21267627e-03,\n",
              "        5.50132871e-01, 4.25359141e-03],\n",
              "       [9.03154969e-01, 5.30152488e-03, 4.43515450e-01, 1.11071561e-02,\n",
              "        7.24604726e-01, 4.63479245e-03],\n",
              "       [9.48896110e-02, 1.09767867e-03, 7.94206164e-04, 1.24896920e-04,\n",
              "        1.05661899e-03, 8.89863353e-04],\n",
              "       [3.07991710e-02, 1.71061663e-03, 3.23248911e-03, 2.54117622e-04,\n",
              "        9.55581572e-03, 1.64617272e-03],\n",
              "       [5.90167820e-01, 2.16720416e-03, 3.31191644e-02, 1.24169805e-03,\n",
              "        4.88940440e-02, 1.59472739e-03],\n",
              "       [8.96798670e-01, 5.63493604e-03, 4.58401740e-01, 1.01876594e-02,\n",
              "        7.14835823e-01, 4.41090064e-03],\n",
              "       [5.35358079e-02, 1.11612969e-03, 8.98122904e-04, 1.10635963e-04,\n",
              "        1.21057231e-03, 9.42396349e-04]])"
            ]
          },
          "metadata": {
            "tags": []
          },
          "execution_count": 32
        }
      ]
    },
    {
      "cell_type": "code",
      "metadata": {
        "id": "uVAWKam2ado5",
        "colab_type": "code",
        "colab": {}
      },
      "source": [
        "label_cols = [\"toxic\", \"severe_toxic\", \"obscene\", \"threat\", \"insult\", \"identity_hate\"]\n",
        "\n",
        "test[\"toxic\"] = pred_probs[:,0]\n",
        "test[\"severe_toxic\"] = pred_probs[:,1]\n",
        "test[\"obscene\"] = pred_probs[:,2]\n",
        "test[\"threat\"] = pred_probs[:,3]\n",
        "test[\"insult\"] = pred_probs[:,4]\n",
        "test[\"identity_hate\"] = pred_probs[:,5]"
      ],
      "execution_count": 33,
      "outputs": []
    },
    {
      "cell_type": "code",
      "metadata": {
        "id": "r_l6LVlX_R9J",
        "colab_type": "code",
        "colab": {
          "base_uri": "https://localhost:8080/",
          "height": 309
        },
        "outputId": "2b27935c-7832-4560-dd83-892d644e8aa4"
      },
      "source": [
        "test.head()"
      ],
      "execution_count": 34,
      "outputs": [
        {
          "output_type": "execute_result",
          "data": {
            "text/html": [
              "<div>\n",
              "<style scoped>\n",
              "    .dataframe tbody tr th:only-of-type {\n",
              "        vertical-align: middle;\n",
              "    }\n",
              "\n",
              "    .dataframe tbody tr th {\n",
              "        vertical-align: top;\n",
              "    }\n",
              "\n",
              "    .dataframe thead th {\n",
              "        text-align: right;\n",
              "    }\n",
              "</style>\n",
              "<table border=\"1\" class=\"dataframe\">\n",
              "  <thead>\n",
              "    <tr style=\"text-align: right;\">\n",
              "      <th></th>\n",
              "      <th>comment_text</th>\n",
              "      <th>features</th>\n",
              "      <th>masks</th>\n",
              "      <th>toxic</th>\n",
              "      <th>severe_toxic</th>\n",
              "      <th>obscene</th>\n",
              "      <th>threat</th>\n",
              "      <th>insult</th>\n",
              "      <th>identity_hate</th>\n",
              "    </tr>\n",
              "    <tr>\n",
              "      <th>id</th>\n",
              "      <th></th>\n",
              "      <th></th>\n",
              "      <th></th>\n",
              "      <th></th>\n",
              "      <th></th>\n",
              "      <th></th>\n",
              "      <th></th>\n",
              "      <th></th>\n",
              "      <th></th>\n",
              "    </tr>\n",
              "  </thead>\n",
              "  <tbody>\n",
              "    <tr>\n",
              "      <th>6699df82859122fa</th>\n",
              "      <td>JK kaylah we be frendsssssss and you dont suck...</td>\n",
              "      <td>[17, 1315, 267, 17, 1041, 117, 8637, 80, 39, 1...</td>\n",
              "      <td>[1.0, 1.0, 1.0, 1.0, 1.0, 1.0, 1.0, 1.0, 1.0, ...</td>\n",
              "      <td>0.847499</td>\n",
              "      <td>0.005289</td>\n",
              "      <td>0.275254</td>\n",
              "      <td>0.011019</td>\n",
              "      <td>0.573681</td>\n",
              "      <td>0.003942</td>\n",
              "    </tr>\n",
              "    <tr>\n",
              "      <th>5e6f8e689bdfcede</th>\n",
              "      <td>But is a primarily clinical article.</td>\n",
              "      <td>[57, 27, 24, 3375, 4494, 1447, 9, 4, 3, 0, 0, ...</td>\n",
              "      <td>[1.0, 1.0, 1.0, 1.0, 1.0, 1.0, 1.0, 1.0, 1.0, ...</td>\n",
              "      <td>0.080863</td>\n",
              "      <td>0.001501</td>\n",
              "      <td>0.001647</td>\n",
              "      <td>0.000293</td>\n",
              "      <td>0.002281</td>\n",
              "      <td>0.001326</td>\n",
              "    </tr>\n",
              "    <tr>\n",
              "      <th>4b43be63e9cf076f</th>\n",
              "      <td>\":::::::Excuse me but it is not \"\"unilateral\"\"...</td>\n",
              "      <td>[17, 12, 60, 60, 60, 60, 60, 60, 60, 1506, 470...</td>\n",
              "      <td>[1.0, 1.0, 1.0, 1.0, 1.0, 1.0, 1.0, 1.0, 1.0, ...</td>\n",
              "      <td>0.303586</td>\n",
              "      <td>0.001599</td>\n",
              "      <td>0.006832</td>\n",
              "      <td>0.000607</td>\n",
              "      <td>0.014862</td>\n",
              "      <td>0.001071</td>\n",
              "    </tr>\n",
              "    <tr>\n",
              "      <th>58e26475c37b8425</th>\n",
              "      <td>*somewhat opposed; if mentioned in the lead, t...</td>\n",
              "      <td>[6940, 4202, 8337, 3168, 97, 108, 2911, 25, 18...</td>\n",
              "      <td>[1.0, 1.0, 1.0, 1.0, 1.0, 1.0, 1.0, 1.0, 1.0, ...</td>\n",
              "      <td>0.211076</td>\n",
              "      <td>0.001794</td>\n",
              "      <td>0.004222</td>\n",
              "      <td>0.000510</td>\n",
              "      <td>0.009639</td>\n",
              "      <td>0.001515</td>\n",
              "    </tr>\n",
              "    <tr>\n",
              "      <th>e9d347116b62fd76</th>\n",
              "      <td>You what meters keeps making disruptive edits ...</td>\n",
              "      <td>[44, 113, 3556, 5788, 441, 27920, 8619, 23, 10...</td>\n",
              "      <td>[1.0, 1.0, 1.0, 1.0, 1.0, 1.0, 1.0, 1.0, 1.0, ...</td>\n",
              "      <td>0.749881</td>\n",
              "      <td>0.004390</td>\n",
              "      <td>0.090431</td>\n",
              "      <td>0.001980</td>\n",
              "      <td>0.186765</td>\n",
              "      <td>0.002294</td>\n",
              "    </tr>\n",
              "  </tbody>\n",
              "</table>\n",
              "</div>"
            ],
            "text/plain": [
              "                                                       comment_text  ... identity_hate\n",
              "id                                                                   ...              \n",
              "6699df82859122fa  JK kaylah we be frendsssssss and you dont suck...  ...      0.003942\n",
              "5e6f8e689bdfcede               But is a primarily clinical article.  ...      0.001326\n",
              "4b43be63e9cf076f  \":::::::Excuse me but it is not \"\"unilateral\"\"...  ...      0.001071\n",
              "58e26475c37b8425  *somewhat opposed; if mentioned in the lead, t...  ...      0.001515\n",
              "e9d347116b62fd76  You what meters keeps making disruptive edits ...  ...      0.002294\n",
              "\n",
              "[5 rows x 9 columns]"
            ]
          },
          "metadata": {
            "tags": []
          },
          "execution_count": 34
        }
      ]
    },
    {
      "cell_type": "code",
      "metadata": {
        "id": "dpE1pjPIAJGg",
        "colab_type": "code",
        "colab": {
          "base_uri": "https://localhost:8080/",
          "height": 279
        },
        "outputId": "4b99c155-6b04-4a37-9bfe-416093a7ab3e"
      },
      "source": [
        "test_to_csv = test.reset_index()\n",
        "test_to_csv.head()"
      ],
      "execution_count": 35,
      "outputs": [
        {
          "output_type": "execute_result",
          "data": {
            "text/html": [
              "<div>\n",
              "<style scoped>\n",
              "    .dataframe tbody tr th:only-of-type {\n",
              "        vertical-align: middle;\n",
              "    }\n",
              "\n",
              "    .dataframe tbody tr th {\n",
              "        vertical-align: top;\n",
              "    }\n",
              "\n",
              "    .dataframe thead th {\n",
              "        text-align: right;\n",
              "    }\n",
              "</style>\n",
              "<table border=\"1\" class=\"dataframe\">\n",
              "  <thead>\n",
              "    <tr style=\"text-align: right;\">\n",
              "      <th></th>\n",
              "      <th>id</th>\n",
              "      <th>comment_text</th>\n",
              "      <th>features</th>\n",
              "      <th>masks</th>\n",
              "      <th>toxic</th>\n",
              "      <th>severe_toxic</th>\n",
              "      <th>obscene</th>\n",
              "      <th>threat</th>\n",
              "      <th>insult</th>\n",
              "      <th>identity_hate</th>\n",
              "    </tr>\n",
              "  </thead>\n",
              "  <tbody>\n",
              "    <tr>\n",
              "      <th>0</th>\n",
              "      <td>6699df82859122fa</td>\n",
              "      <td>JK kaylah we be frendsssssss and you dont suck...</td>\n",
              "      <td>[17, 1315, 267, 17, 1041, 117, 8637, 80, 39, 1...</td>\n",
              "      <td>[1.0, 1.0, 1.0, 1.0, 1.0, 1.0, 1.0, 1.0, 1.0, ...</td>\n",
              "      <td>0.847499</td>\n",
              "      <td>0.005289</td>\n",
              "      <td>0.275254</td>\n",
              "      <td>0.011019</td>\n",
              "      <td>0.573681</td>\n",
              "      <td>0.003942</td>\n",
              "    </tr>\n",
              "    <tr>\n",
              "      <th>1</th>\n",
              "      <td>5e6f8e689bdfcede</td>\n",
              "      <td>But is a primarily clinical article.</td>\n",
              "      <td>[57, 27, 24, 3375, 4494, 1447, 9, 4, 3, 0, 0, ...</td>\n",
              "      <td>[1.0, 1.0, 1.0, 1.0, 1.0, 1.0, 1.0, 1.0, 1.0, ...</td>\n",
              "      <td>0.080863</td>\n",
              "      <td>0.001501</td>\n",
              "      <td>0.001647</td>\n",
              "      <td>0.000293</td>\n",
              "      <td>0.002281</td>\n",
              "      <td>0.001326</td>\n",
              "    </tr>\n",
              "    <tr>\n",
              "      <th>2</th>\n",
              "      <td>4b43be63e9cf076f</td>\n",
              "      <td>\":::::::Excuse me but it is not \"\"unilateral\"\"...</td>\n",
              "      <td>[17, 12, 60, 60, 60, 60, 60, 60, 60, 1506, 470...</td>\n",
              "      <td>[1.0, 1.0, 1.0, 1.0, 1.0, 1.0, 1.0, 1.0, 1.0, ...</td>\n",
              "      <td>0.303586</td>\n",
              "      <td>0.001599</td>\n",
              "      <td>0.006832</td>\n",
              "      <td>0.000607</td>\n",
              "      <td>0.014862</td>\n",
              "      <td>0.001071</td>\n",
              "    </tr>\n",
              "    <tr>\n",
              "      <th>3</th>\n",
              "      <td>58e26475c37b8425</td>\n",
              "      <td>*somewhat opposed; if mentioned in the lead, t...</td>\n",
              "      <td>[6940, 4202, 8337, 3168, 97, 108, 2911, 25, 18...</td>\n",
              "      <td>[1.0, 1.0, 1.0, 1.0, 1.0, 1.0, 1.0, 1.0, 1.0, ...</td>\n",
              "      <td>0.211076</td>\n",
              "      <td>0.001794</td>\n",
              "      <td>0.004222</td>\n",
              "      <td>0.000510</td>\n",
              "      <td>0.009639</td>\n",
              "      <td>0.001515</td>\n",
              "    </tr>\n",
              "    <tr>\n",
              "      <th>4</th>\n",
              "      <td>e9d347116b62fd76</td>\n",
              "      <td>You what meters keeps making disruptive edits ...</td>\n",
              "      <td>[44, 113, 3556, 5788, 441, 27920, 8619, 23, 10...</td>\n",
              "      <td>[1.0, 1.0, 1.0, 1.0, 1.0, 1.0, 1.0, 1.0, 1.0, ...</td>\n",
              "      <td>0.749881</td>\n",
              "      <td>0.004390</td>\n",
              "      <td>0.090431</td>\n",
              "      <td>0.001980</td>\n",
              "      <td>0.186765</td>\n",
              "      <td>0.002294</td>\n",
              "    </tr>\n",
              "  </tbody>\n",
              "</table>\n",
              "</div>"
            ],
            "text/plain": [
              "                 id  ... identity_hate\n",
              "0  6699df82859122fa  ...      0.003942\n",
              "1  5e6f8e689bdfcede  ...      0.001326\n",
              "2  4b43be63e9cf076f  ...      0.001071\n",
              "3  58e26475c37b8425  ...      0.001515\n",
              "4  e9d347116b62fd76  ...      0.002294\n",
              "\n",
              "[5 rows x 10 columns]"
            ]
          },
          "metadata": {
            "tags": []
          },
          "execution_count": 35
        }
      ]
    },
    {
      "cell_type": "code",
      "metadata": {
        "id": "mF95PeFM_rDh",
        "colab_type": "code",
        "colab": {}
      },
      "source": [
        "cwd = os.getcwd()\n",
        "pred_save_path = output_model_file = os.path.join(cwd, \"drive/My Drive/Data/toxic_1_epoch.csv\")\n",
        "test_to_csv[[\"id\", \"toxic\", \"severe_toxic\", \"obscene\", \"threat\", \"insult\", \"identity_hate\"]].to_csv(pred_save_path, index=False)"
      ],
      "execution_count": 36,
      "outputs": []
    },
    {
      "cell_type": "code",
      "metadata": {
        "id": "tBnRrhxrjlEj",
        "colab_type": "code",
        "colab": {
          "base_uri": "https://localhost:8080/",
          "height": 1000
        },
        "outputId": "32e16c7b-ce56-49ce-cf30-e729eb2010fa"
      },
      "source": [
        "np.round(pred_probs)"
      ],
      "execution_count": 37,
      "outputs": [
        {
          "output_type": "execute_result",
          "data": {
            "text/plain": [
              "array([[1., 0., 0., 0., 1., 0.],\n",
              "       [0., 0., 0., 0., 0., 0.],\n",
              "       [0., 0., 0., 0., 0., 0.],\n",
              "       [0., 0., 0., 0., 0., 0.],\n",
              "       [1., 0., 0., 0., 0., 0.],\n",
              "       [1., 0., 0., 0., 0., 0.],\n",
              "       [0., 0., 0., 0., 0., 0.],\n",
              "       [0., 0., 0., 0., 0., 0.],\n",
              "       [0., 0., 0., 0., 0., 0.],\n",
              "       [0., 0., 0., 0., 0., 0.],\n",
              "       [0., 0., 0., 0., 0., 0.],\n",
              "       [0., 0., 0., 0., 0., 0.],\n",
              "       [1., 0., 0., 0., 0., 0.],\n",
              "       [0., 0., 0., 0., 0., 0.],\n",
              "       [0., 0., 0., 0., 0., 0.],\n",
              "       [1., 0., 0., 0., 0., 0.],\n",
              "       [1., 0., 0., 0., 1., 0.],\n",
              "       [0., 0., 0., 0., 0., 0.],\n",
              "       [0., 0., 0., 0., 0., 0.],\n",
              "       [0., 0., 0., 0., 0., 0.],\n",
              "       [0., 0., 0., 0., 0., 0.],\n",
              "       [0., 0., 0., 0., 0., 0.],\n",
              "       [0., 0., 0., 0., 0., 0.],\n",
              "       [1., 0., 0., 0., 0., 0.],\n",
              "       [0., 0., 0., 0., 0., 0.],\n",
              "       [0., 0., 0., 0., 0., 0.],\n",
              "       [0., 0., 0., 0., 0., 0.],\n",
              "       [0., 0., 0., 0., 0., 0.],\n",
              "       [0., 0., 0., 0., 0., 0.],\n",
              "       [0., 0., 0., 0., 0., 0.],\n",
              "       [0., 0., 0., 0., 0., 0.],\n",
              "       [0., 0., 0., 0., 0., 0.],\n",
              "       [0., 0., 0., 0., 0., 0.],\n",
              "       [0., 0., 0., 0., 0., 0.],\n",
              "       [0., 0., 0., 0., 0., 0.],\n",
              "       [0., 0., 0., 0., 0., 0.],\n",
              "       [1., 0., 0., 0., 0., 0.],\n",
              "       [0., 0., 0., 0., 0., 0.],\n",
              "       [0., 0., 0., 0., 0., 0.],\n",
              "       [1., 0., 0., 0., 0., 0.],\n",
              "       [0., 0., 0., 0., 0., 0.],\n",
              "       [0., 0., 0., 0., 0., 0.],\n",
              "       [0., 0., 0., 0., 0., 0.],\n",
              "       [1., 0., 0., 0., 0., 0.],\n",
              "       [1., 0., 0., 0., 0., 0.],\n",
              "       [0., 0., 0., 0., 0., 0.],\n",
              "       [0., 0., 0., 0., 0., 0.],\n",
              "       [1., 0., 0., 0., 0., 0.],\n",
              "       [0., 0., 0., 0., 0., 0.],\n",
              "       [0., 0., 0., 0., 0., 0.],\n",
              "       [0., 0., 0., 0., 0., 0.],\n",
              "       [0., 0., 0., 0., 0., 0.],\n",
              "       [0., 0., 0., 0., 0., 0.],\n",
              "       [0., 0., 0., 0., 0., 0.],\n",
              "       [0., 0., 0., 0., 0., 0.],\n",
              "       [0., 0., 0., 0., 0., 0.],\n",
              "       [0., 0., 0., 0., 0., 0.],\n",
              "       [0., 0., 0., 0., 0., 0.],\n",
              "       [0., 0., 0., 0., 0., 0.],\n",
              "       [1., 0., 0., 0., 0., 0.],\n",
              "       [0., 0., 0., 0., 0., 0.],\n",
              "       [0., 0., 0., 0., 0., 0.],\n",
              "       [0., 0., 0., 0., 0., 0.],\n",
              "       [0., 0., 0., 0., 0., 0.],\n",
              "       [0., 0., 0., 0., 0., 0.],\n",
              "       [0., 0., 0., 0., 0., 0.],\n",
              "       [0., 0., 0., 0., 0., 0.],\n",
              "       [0., 0., 0., 0., 0., 0.],\n",
              "       [1., 0., 0., 0., 1., 0.],\n",
              "       [0., 0., 0., 0., 0., 0.],\n",
              "       [0., 0., 0., 0., 0., 0.],\n",
              "       [0., 0., 0., 0., 0., 0.],\n",
              "       [0., 0., 0., 0., 0., 0.],\n",
              "       [0., 0., 0., 0., 0., 0.],\n",
              "       [0., 0., 0., 0., 0., 0.],\n",
              "       [0., 0., 0., 0., 0., 0.],\n",
              "       [0., 0., 0., 0., 0., 0.],\n",
              "       [1., 0., 0., 0., 0., 0.],\n",
              "       [0., 0., 0., 0., 0., 0.],\n",
              "       [1., 0., 0., 0., 1., 0.],\n",
              "       [0., 0., 0., 0., 0., 0.],\n",
              "       [0., 0., 0., 0., 0., 0.],\n",
              "       [0., 0., 0., 0., 0., 0.],\n",
              "       [0., 0., 0., 0., 0., 0.],\n",
              "       [0., 0., 0., 0., 0., 0.],\n",
              "       [0., 0., 0., 0., 0., 0.],\n",
              "       [0., 0., 0., 0., 0., 0.],\n",
              "       [0., 0., 0., 0., 0., 0.],\n",
              "       [0., 0., 0., 0., 0., 0.],\n",
              "       [0., 0., 0., 0., 0., 0.],\n",
              "       [0., 0., 0., 0., 0., 0.],\n",
              "       [0., 0., 0., 0., 0., 0.],\n",
              "       [0., 0., 0., 0., 0., 0.],\n",
              "       [1., 0., 0., 0., 1., 0.],\n",
              "       [1., 0., 0., 0., 1., 0.],\n",
              "       [0., 0., 0., 0., 0., 0.],\n",
              "       [0., 0., 0., 0., 0., 0.],\n",
              "       [1., 0., 0., 0., 0., 0.],\n",
              "       [1., 0., 0., 0., 1., 0.],\n",
              "       [0., 0., 0., 0., 0., 0.]])"
            ]
          },
          "metadata": {
            "tags": []
          },
          "execution_count": 37
        }
      ]
    },
    {
      "cell_type": "code",
      "metadata": {
        "id": "yHv4x0ZqJC1s",
        "colab_type": "code",
        "colab": {
          "base_uri": "https://localhost:8080/",
          "height": 17
        },
        "outputId": "eb54339f-ae21-4de0-b41c-5764c4e02273"
      },
      "source": [
        "from google.colab import files\n",
        "\n",
        "test.to_csv('test_sample.csv')\n",
        "files.download('test_sample.csv')"
      ],
      "execution_count": 38,
      "outputs": [
        {
          "output_type": "display_data",
          "data": {
            "application/javascript": [
              "\n",
              "    async function download(id, filename, size) {\n",
              "      if (!google.colab.kernel.accessAllowed) {\n",
              "        return;\n",
              "      }\n",
              "      const div = document.createElement('div');\n",
              "      const label = document.createElement('label');\n",
              "      label.textContent = `Downloading \"${filename}\": `;\n",
              "      div.appendChild(label);\n",
              "      const progress = document.createElement('progress');\n",
              "      progress.max = size;\n",
              "      div.appendChild(progress);\n",
              "      document.body.appendChild(div);\n",
              "\n",
              "      const buffers = [];\n",
              "      let downloaded = 0;\n",
              "\n",
              "      const channel = await google.colab.kernel.comms.open(id);\n",
              "      // Send a message to notify the kernel that we're ready.\n",
              "      channel.send({})\n",
              "\n",
              "      for await (const message of channel.messages) {\n",
              "        // Send a message to notify the kernel that we're ready.\n",
              "        channel.send({})\n",
              "        if (message.buffers) {\n",
              "          for (const buffer of message.buffers) {\n",
              "            buffers.push(buffer);\n",
              "            downloaded += buffer.byteLength;\n",
              "            progress.value = downloaded;\n",
              "          }\n",
              "        }\n",
              "      }\n",
              "      const blob = new Blob(buffers, {type: 'application/binary'});\n",
              "      const a = document.createElement('a');\n",
              "      a.href = window.URL.createObjectURL(blob);\n",
              "      a.download = filename;\n",
              "      div.appendChild(a);\n",
              "      a.click();\n",
              "      div.remove();\n",
              "    }\n",
              "  "
            ],
            "text/plain": [
              "<IPython.core.display.Javascript object>"
            ]
          },
          "metadata": {
            "tags": []
          }
        },
        {
          "output_type": "display_data",
          "data": {
            "application/javascript": [
              "download(\"download_c8d1b073-d164-4dd6-b4cb-26aa1209268a\", \"test_sample.csv\", 260458)"
            ],
            "text/plain": [
              "<IPython.core.display.Javascript object>"
            ]
          },
          "metadata": {
            "tags": []
          }
        }
      ]
    }
  ]
}
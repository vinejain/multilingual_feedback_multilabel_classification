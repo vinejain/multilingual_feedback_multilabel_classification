{
  "nbformat": 4,
  "nbformat_minor": 0,
  "metadata": {
    "colab": {
      "name": "Experiments_v1.ipynb",
      "provenance": [],
      "collapsed_sections": [],
      "authorship_tag": "ABX9TyNrSD+2j2L8qI410PZPr4da",
      "include_colab_link": true
    },
    "kernelspec": {
      "name": "python3",
      "display_name": "Python 3"
    },
    "accelerator": "GPU"
  },
  "cells": [
    {
      "cell_type": "markdown",
      "metadata": {
        "id": "view-in-github",
        "colab_type": "text"
      },
      "source": [
        "<a href=\"https://colab.research.google.com/github/vinejain/multilingual_feedback_multilabel_classification/blob/master/Experiments_v1.ipynb\" target=\"_parent\"><img src=\"https://colab.research.google.com/assets/colab-badge.svg\" alt=\"Open In Colab\"/></a>"
      ]
    },
    {
      "cell_type": "markdown",
      "metadata": {
        "id": "SAqlQMX7S8qL",
        "colab_type": "text"
      },
      "source": [
        "REF: https://github.com/nkartik94/Multi-Label-Text-Classification/blob/master/Mark_6.ipynb"
      ]
    },
    {
      "cell_type": "code",
      "metadata": {
        "id": "aQnFTa4bS7O3",
        "colab_type": "code",
        "colab": {}
      },
      "source": [
        "import os\n",
        "import csv\n",
        "import pandas as pd\n",
        "import numpy as np\n",
        "import matplotlib.pyplot as plt\n",
        "import seaborn as sns\n",
        "from IPython.display import Markdown, display\n",
        "def printmd(string):\n",
        "    display(Markdown(string))\n"
      ],
      "execution_count": 32,
      "outputs": []
    },
    {
      "cell_type": "code",
      "metadata": {
        "id": "vt8L_dzLTQHa",
        "colab_type": "code",
        "colab": {
          "base_uri": "https://localhost:8080/",
          "height": 34
        },
        "outputId": "ed1cc832-7df3-4b34-8477-a53b4cf932b9"
      },
      "source": [
        "from google.colab import drive\n",
        "drive.mount('/content/drive')"
      ],
      "execution_count": 33,
      "outputs": [
        {
          "output_type": "stream",
          "text": [
            "Drive already mounted at /content/drive; to attempt to forcibly remount, call drive.mount(\"/content/drive\", force_remount=True).\n"
          ],
          "name": "stdout"
        }
      ]
    },
    {
      "cell_type": "code",
      "metadata": {
        "id": "h2YVubS3TSYa",
        "colab_type": "code",
        "colab": {
          "base_uri": "https://localhost:8080/",
          "height": 606
        },
        "outputId": "925c150d-11bf-4908-828c-7029961a8294"
      },
      "source": [
        "data_path = \"/content/drive/My Drive/thesis_data/multilabelDF.csv\"\n",
        "data_raw = pd.read_csv(data_path)\n",
        "#data_raw = data_raw.loc[np.random.choice(data_raw.index, size=2000)]\n",
        "data_raw.shape\n",
        "print(\"Number of rows in data =\",data_raw.shape[0])\n",
        "print(\"Number of columns in data =\",data_raw.shape[1])\n",
        "print(\"\\n\")\n",
        "printmd(\"**Sample data:**\")\n",
        "data_raw.head()\n",
        "\n",
        "missing_values_check = data_raw.isnull().sum()\n",
        "print(missing_values_check)\n",
        "\n",
        "##### Calculating number of comments under each label¶\n",
        "rowSums = data_raw.iloc[:,2:].sum(axis=1)\n",
        "clean_comments_count = (rowSums==0).sum(axis=0)\n",
        "print(\"Total number of comments = \",len(data_raw))\n",
        "print(\"Number of clean comments = \",clean_comments_count)\n",
        "print(\"Number of comments with labels =\",(len(data_raw)-clean_comments_count))\n",
        "categories = list(data_raw.columns.values)\n",
        "categories = categories[6:]\n",
        "print(categories)\n",
        "\n",
        "# Calculating number of comments in each category\n",
        "\n",
        "counts = []\n",
        "for category in categories:\n",
        "    counts.append((category, data_raw[category].sum()))\n",
        "df_stats = pd.DataFrame(counts, columns=['category', 'number of comments'])\n",
        "df_stats"
      ],
      "execution_count": 35,
      "outputs": [
        {
          "output_type": "stream",
          "text": [
            "Number of rows in data = 3065\n",
            "Number of columns in data = 12\n",
            "\n",
            "\n"
          ],
          "name": "stdout"
        },
        {
          "output_type": "display_data",
          "data": {
            "text/markdown": "**Sample data:**",
            "text/plain": [
              "<IPython.core.display.Markdown object>"
            ]
          },
          "metadata": {
            "tags": []
          }
        },
        {
          "output_type": "stream",
          "text": [
            "ID                 0\n",
            "reviewText         0\n",
            "Label              0\n",
            "cleaned_text       4\n",
            "Lab1               0\n",
            "Lab2            2919\n",
            "bug                0\n",
            "comment            0\n",
            "complaint          0\n",
            "meaningless        0\n",
            "request            0\n",
            "undetermined       0\n",
            "dtype: int64\n",
            "Total number of comments =  3065\n",
            "Number of clean comments =  0\n",
            "Number of comments with labels = 3065\n",
            "['bug', 'comment', 'complaint', 'meaningless', 'request', 'undetermined']\n"
          ],
          "name": "stdout"
        },
        {
          "output_type": "execute_result",
          "data": {
            "text/html": [
              "<div>\n",
              "<style scoped>\n",
              "    .dataframe tbody tr th:only-of-type {\n",
              "        vertical-align: middle;\n",
              "    }\n",
              "\n",
              "    .dataframe tbody tr th {\n",
              "        vertical-align: top;\n",
              "    }\n",
              "\n",
              "    .dataframe thead th {\n",
              "        text-align: right;\n",
              "    }\n",
              "</style>\n",
              "<table border=\"1\" class=\"dataframe\">\n",
              "  <thead>\n",
              "    <tr style=\"text-align: right;\">\n",
              "      <th></th>\n",
              "      <th>category</th>\n",
              "      <th>number of comments</th>\n",
              "    </tr>\n",
              "  </thead>\n",
              "  <tbody>\n",
              "    <tr>\n",
              "      <th>0</th>\n",
              "      <td>bug</td>\n",
              "      <td>72</td>\n",
              "    </tr>\n",
              "    <tr>\n",
              "      <th>1</th>\n",
              "      <td>comment</td>\n",
              "      <td>1758</td>\n",
              "    </tr>\n",
              "    <tr>\n",
              "      <th>2</th>\n",
              "      <td>complaint</td>\n",
              "      <td>950</td>\n",
              "    </tr>\n",
              "    <tr>\n",
              "      <th>3</th>\n",
              "      <td>meaningless</td>\n",
              "      <td>306</td>\n",
              "    </tr>\n",
              "    <tr>\n",
              "      <th>4</th>\n",
              "      <td>request</td>\n",
              "      <td>103</td>\n",
              "    </tr>\n",
              "    <tr>\n",
              "      <th>5</th>\n",
              "      <td>undetermined</td>\n",
              "      <td>22</td>\n",
              "    </tr>\n",
              "  </tbody>\n",
              "</table>\n",
              "</div>"
            ],
            "text/plain": [
              "       category  number of comments\n",
              "0           bug                  72\n",
              "1       comment                1758\n",
              "2     complaint                 950\n",
              "3   meaningless                 306\n",
              "4       request                 103\n",
              "5  undetermined                  22"
            ]
          },
          "metadata": {
            "tags": []
          },
          "execution_count": 35
        }
      ]
    },
    {
      "cell_type": "markdown",
      "metadata": {
        "id": "LJdpVWZSVXDp",
        "colab_type": "text"
      },
      "source": [
        "**Data Pre-Processing**"
      ]
    },
    {
      "cell_type": "code",
      "metadata": {
        "id": "aHH5B7hLUsZ2",
        "colab_type": "code",
        "colab": {}
      },
      "source": [
        "data = data_raw\n",
        "data = data_raw.loc[np.random.choice(data_raw.index, size=2000)]\n",
        "data.shape\n",
        "import nltk\n",
        "from nltk.corpus import stopwords\n",
        "from nltk.stem.snowball import SnowballStemmer\n",
        "import re\n",
        "\n",
        "import sys\n",
        "import warnings\n",
        "\n",
        "if not sys.warnoptions:\n",
        "    warnings.simplefilter(\"ignore\")\n",
        "\n",
        "# Cleaning DATA\n",
        "\n",
        "def cleanHtml(sentence):\n",
        "    cleanr = re.compile('<.*?>')\n",
        "    cleantext = re.sub(cleanr, ' ', str(sentence))\n",
        "    return cleantext\n",
        "\n",
        "\n",
        "def cleanPunc(sentence): #function to clean the word of any punctuation or special characters\n",
        "    cleaned = re.sub(r'[?|!|\\'|\"|#]',r'',sentence)\n",
        "    cleaned = re.sub(r'[.|,|)|(|\\|/]',r' ',cleaned)\n",
        "    cleaned = cleaned.strip()\n",
        "    cleaned = cleaned.replace(\"\\n\",\" \")\n",
        "    return cleaned\n",
        "\n",
        "\n",
        "def keepAlpha(sentence):\n",
        "    alpha_sent = \"\"\n",
        "    for word in sentence.split():\n",
        "        alpha_word = re.sub('[^a-z A-Z]+', ' ', word)\n",
        "        alpha_sent += alpha_word\n",
        "        alpha_sent += \" \"\n",
        "    alpha_sent = alpha_sent.strip()\n",
        "    return alpha_sent\n",
        "\n",
        "data['reviewText'] = data['reviewText'].str.lower()\n",
        "data['reviewText'] = data['reviewText'].apply(cleanHtml)\n",
        "data['reviewText'] = data['reviewText'].apply(cleanPunc)\n",
        "data['reviewText'] = data['reviewText'].apply(keepAlpha)\n",
        "#data.head()\n"
      ],
      "execution_count": 36,
      "outputs": []
    },
    {
      "cell_type": "code",
      "metadata": {
        "id": "d5SXb6XPV7Bt",
        "colab_type": "code",
        "colab": {
          "base_uri": "https://localhost:8080/",
          "height": 50
        },
        "outputId": "7610e029-1199-4867-d43f-b3670c2145a5"
      },
      "source": [
        "########### Stemming\n",
        "stemmer = SnowballStemmer(\"english\")\n",
        "def stemming(sentence):\n",
        "    stemSentence = \"\"\n",
        "    for word in sentence.split():\n",
        "        stem = stemmer.stem(word)\n",
        "        stemSentence += stem\n",
        "        stemSentence += \" \"\n",
        "    stemSentence = stemSentence.strip()\n",
        "    return stemSentence\n",
        "\n",
        "data['reviewText'] = data['reviewText'].apply(stemming)\n",
        "#data.head()\n",
        "\n",
        "########## Train-Test Split\n",
        "\n",
        "test = pd.read_csv('/content/drive/My Drive/thesis_data/multilabelTestDF.csv')\n",
        "train = train[['ID', 'reviewText', 'bug', 'comment', 'complaint', 'meaningless', 'request', 'undetermined']]\n",
        "test = test[['ID', 'reviewText', 'bug', 'comment', 'complaint', 'meaningless', 'request', 'undetermined']]\n",
        "\n",
        "print(train.shape)\n",
        "print(test.shape)\n",
        "train_text = train['reviewText']\n",
        "test_text = test['reviewText']"
      ],
      "execution_count": 37,
      "outputs": [
        {
          "output_type": "stream",
          "text": [
            "(1400, 8)\n",
            "(500, 8)\n"
          ],
          "name": "stdout"
        }
      ]
    },
    {
      "cell_type": "code",
      "metadata": {
        "id": "aOOWy1vsYVwD",
        "colab_type": "code",
        "colab": {}
      },
      "source": [
        "from sklearn.feature_extraction.text import TfidfVectorizer\n",
        "vectorizer = TfidfVectorizer(strip_accents='unicode', analyzer='word', ngram_range=(1,3), norm='l2')\n",
        "vectorizer.fit(train_text)\n",
        "vectorizer.fit(test_text)\n",
        "x_train = vectorizer.transform(train_text)\n",
        "y_train = train.drop(labels = ['ID','reviewText'], axis=1)\n",
        "x_test = vectorizer.transform(test_text)\n",
        "y_test = test.drop(labels = ['ID','reviewText'], axis=1)"
      ],
      "execution_count": 38,
      "outputs": []
    },
    {
      "cell_type": "markdown",
      "metadata": {
        "id": "PbChkhSuYsfc",
        "colab_type": "text"
      },
      "source": [
        "**Multi-Label Classification**"
      ]
    },
    {
      "cell_type": "code",
      "metadata": {
        "id": "PVzUrsLgYu0g",
        "colab_type": "code",
        "colab": {
          "base_uri": "https://localhost:8080/",
          "height": 492
        },
        "outputId": "782574ad-689d-40d4-e7ff-1d80b36d4661"
      },
      "source": [
        "# Multiple Binary Classifications - (One Vs Rest Classifier)\n",
        "from sklearn.linear_model import LogisticRegression\n",
        "from sklearn.pipeline import Pipeline\n",
        "from sklearn.metrics import accuracy_score\n",
        "from sklearn.multiclass import OneVsRestClassifier\n",
        "#%%time\n",
        "\n",
        "# Using pipeline for applying logistic regression and one vs rest classifier\n",
        "LogReg_pipeline = Pipeline([\n",
        "                ('clf', OneVsRestClassifier(LogisticRegression(solver='sag'), n_jobs=-1)),\n",
        "            ])\n",
        "\n",
        "for category in categories:\n",
        "    printmd('**Processing {} comments...**'.format(category))\n",
        "    \n",
        "    # Training logistic regression model on train data\n",
        "    LogReg_pipeline.fit(x_train, train[category])\n",
        "    \n",
        "    # calculating test accuracy\n",
        "    prediction = LogReg_pipeline.predict(x_test)\n",
        "    print('Test accuracy is {}'.format(accuracy_score(test[category], prediction)))\n",
        "    print(\"\\n\")\n"
      ],
      "execution_count": 39,
      "outputs": [
        {
          "output_type": "display_data",
          "data": {
            "text/markdown": "**Processing bug comments...**",
            "text/plain": [
              "<IPython.core.display.Markdown object>"
            ]
          },
          "metadata": {
            "tags": []
          }
        },
        {
          "output_type": "stream",
          "text": [
            "Test accuracy is 0.98\n",
            "\n",
            "\n"
          ],
          "name": "stdout"
        },
        {
          "output_type": "display_data",
          "data": {
            "text/markdown": "**Processing comment comments...**",
            "text/plain": [
              "<IPython.core.display.Markdown object>"
            ]
          },
          "metadata": {
            "tags": []
          }
        },
        {
          "output_type": "stream",
          "text": [
            "Test accuracy is 0.704\n",
            "\n",
            "\n"
          ],
          "name": "stdout"
        },
        {
          "output_type": "display_data",
          "data": {
            "text/markdown": "**Processing complaint comments...**",
            "text/plain": [
              "<IPython.core.display.Markdown object>"
            ]
          },
          "metadata": {
            "tags": []
          }
        },
        {
          "output_type": "stream",
          "text": [
            "Test accuracy is 0.708\n",
            "\n",
            "\n"
          ],
          "name": "stdout"
        },
        {
          "output_type": "display_data",
          "data": {
            "text/markdown": "**Processing meaningless comments...**",
            "text/plain": [
              "<IPython.core.display.Markdown object>"
            ]
          },
          "metadata": {
            "tags": []
          }
        },
        {
          "output_type": "stream",
          "text": [
            "Test accuracy is 0.876\n",
            "\n",
            "\n"
          ],
          "name": "stdout"
        },
        {
          "output_type": "display_data",
          "data": {
            "text/markdown": "**Processing request comments...**",
            "text/plain": [
              "<IPython.core.display.Markdown object>"
            ]
          },
          "metadata": {
            "tags": []
          }
        },
        {
          "output_type": "stream",
          "text": [
            "Test accuracy is 0.974\n",
            "\n",
            "\n"
          ],
          "name": "stdout"
        },
        {
          "output_type": "display_data",
          "data": {
            "text/markdown": "**Processing undetermined comments...**",
            "text/plain": [
              "<IPython.core.display.Markdown object>"
            ]
          },
          "metadata": {
            "tags": []
          }
        },
        {
          "output_type": "stream",
          "text": [
            "Test accuracy is 0.992\n",
            "\n",
            "\n"
          ],
          "name": "stdout"
        }
      ]
    },
    {
      "cell_type": "code",
      "metadata": {
        "id": "eksLNJQCZtuj",
        "colab_type": "code",
        "colab": {
          "base_uri": "https://localhost:8080/",
          "height": 67
        },
        "outputId": "ee5931bd-1ff0-43c6-bd19-d3156e74b054"
      },
      "source": [
        "!pip install scikit-multilearn\n",
        "# Multiple Binary Classifications - (Binary Relevance)\n",
        "# using binary relevance\n",
        "from skmultilearn.problem_transform import BinaryRelevance\n",
        "from sklearn.naive_bayes import GaussianNB\n",
        "\n",
        "# initialize binary relevance multi-label classifier\n",
        "# with a gaussian naive bayes base classifier\n",
        "classifier = BinaryRelevance(GaussianNB())\n",
        "\n",
        "# train\n",
        "classifier.fit(x_train, y_train)\n",
        "\n",
        "# predict\n",
        "predictions = classifier.predict(x_test)\n",
        "\n",
        "# accuracy\n",
        "print(\"Accuracy = \",accuracy_score(y_test,predictions))\n",
        "print(\"\\n\")\n"
      ],
      "execution_count": 45,
      "outputs": [
        {
          "output_type": "stream",
          "text": [
            "Accuracy =  0.39\n",
            "\n",
            "\n"
          ],
          "name": "stdout"
        }
      ]
    },
    {
      "cell_type": "code",
      "metadata": {
        "id": "pnqXnhxRbjJw",
        "colab_type": "code",
        "colab": {
          "base_uri": "https://localhost:8080/",
          "height": 67
        },
        "outputId": "b0d28bee-bd75-4305-c19d-6d0808d1ae25"
      },
      "source": [
        "# using classifier chains\n",
        "from skmultilearn.problem_transform import ClassifierChain\n",
        "from sklearn.linear_model import LogisticRegression\n",
        "# Classifier Chains¶\n",
        "# initialize classifier chains multi-label classifier\n",
        "classifier = ClassifierChain(LogisticRegression())\n",
        "# Training logistic regression model on train data\n",
        "classifier.fit(x_train, y_train)\n",
        "# predict\n",
        "predictions = classifier.predict(x_test)\n",
        "# accuracy\n",
        "print(\"Accuracy = \",accuracy_score(y_test,predictions))\n",
        "print(\"\\n\")"
      ],
      "execution_count": 47,
      "outputs": [
        {
          "output_type": "stream",
          "text": [
            "Accuracy =  0.578\n",
            "\n",
            "\n"
          ],
          "name": "stdout"
        }
      ]
    },
    {
      "cell_type": "code",
      "metadata": {
        "id": "zK3aCwEab8_5",
        "colab_type": "code",
        "colab": {
          "base_uri": "https://localhost:8080/",
          "height": 67
        },
        "outputId": "b7b86a84-2f07-4787-adfd-6f0875b91551"
      },
      "source": [
        "# Label Powerset¶\n",
        "# using Label Powerset\n",
        "from skmultilearn.problem_transform import LabelPowerset\n",
        "# initialize label powerset multi-label classifier\n",
        "classifier = LabelPowerset(LogisticRegression())\n",
        "# train\n",
        "classifier.fit(x_train, y_train)\n",
        "# predict\n",
        "predictions = classifier.predict(x_test)\n",
        "# accuracy\n",
        "print(\"Accuracy = \",accuracy_score(y_test,predictions))\n",
        "print(\"\\n\")"
      ],
      "execution_count": 48,
      "outputs": [
        {
          "output_type": "stream",
          "text": [
            "Accuracy =  0.56\n",
            "\n",
            "\n"
          ],
          "name": "stdout"
        }
      ]
    },
    {
      "cell_type": "code",
      "metadata": {
        "id": "AxrBbm-9cD4Y",
        "colab_type": "code",
        "colab": {
          "base_uri": "https://localhost:8080/",
          "height": 67
        },
        "outputId": "6033093f-35d9-4bb5-e83f-b1e279ea67c2"
      },
      "source": [
        "# Adapted Algorithm¶\n",
        "# http://scikit.ml/api/api/skmultilearn.adapt.html#skmultilearn.adapt.MLkNN\n",
        "\n",
        "from skmultilearn.adapt import MLkNN\n",
        "from scipy.sparse import csr_matrix, lil_matrix\n",
        "classifier_new = MLkNN(k=10)\n",
        "# Note that this classifier can throw up errors when handling sparse matrices.\n",
        "x_train = lil_matrix(x_train).toarray()\n",
        "y_train = lil_matrix(y_train).toarray()\n",
        "x_test = lil_matrix(x_test).toarray()\n",
        "# train\n",
        "classifier_new.fit(x_train, y_train)\n",
        "# predict\n",
        "predictions_new = classifier_new.predict(x_test)\n",
        "# accuracy\n",
        "print(\"Accuracy = \",accuracy_score(y_test,predictions_new))\n",
        "print(\"\\n\")"
      ],
      "execution_count": 49,
      "outputs": [
        {
          "output_type": "stream",
          "text": [
            "Accuracy =  0.228\n",
            "\n",
            "\n"
          ],
          "name": "stdout"
        }
      ]
    }
  ]
}